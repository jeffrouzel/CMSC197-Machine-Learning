{
 "cells": [
  {
   "cell_type": "markdown",
   "metadata": {},
   "source": [
    "## Importing the Libraries"
   ]
  },
  {
   "cell_type": "code",
   "execution_count": 172,
   "metadata": {},
   "outputs": [],
   "source": [
    "# For numerical operations, data manipulation and analysis\n",
    "import numpy as np              \n",
    "import pandas as pd\n",
    "\n",
    "# For plotting the data             \n",
    "import matplotlib.pyplot as plt \n",
    "\n",
    "# For splitting data into training and testing sets\n",
    "from sklearn.model_selection import train_test_split\n",
    "\n",
    "# For calculating MSE and R-squared values\n",
    "from sklearn.metrics import r2_score ,mean_squared_error\n",
    "\n",
    "import random\n"
   ]
  },
  {
   "cell_type": "markdown",
   "metadata": {},
   "source": [
    "## [ I ] Load and Explore the Dataset"
   ]
  },
  {
   "cell_type": "code",
   "execution_count": 173,
   "metadata": {},
   "outputs": [
    {
     "name": "stdout",
     "output_type": "stream",
     "text": [
      "Size of the data: (200, 4)\n"
     ]
    },
    {
     "data": {
      "text/html": [
       "<div>\n",
       "<style scoped>\n",
       "    .dataframe tbody tr th:only-of-type {\n",
       "        vertical-align: middle;\n",
       "    }\n",
       "\n",
       "    .dataframe tbody tr th {\n",
       "        vertical-align: top;\n",
       "    }\n",
       "\n",
       "    .dataframe thead th {\n",
       "        text-align: right;\n",
       "    }\n",
       "</style>\n",
       "<table border=\"1\" class=\"dataframe\">\n",
       "  <thead>\n",
       "    <tr style=\"text-align: right;\">\n",
       "      <th></th>\n",
       "      <th>TV</th>\n",
       "      <th>Radio</th>\n",
       "      <th>Newspaper</th>\n",
       "      <th>Sales</th>\n",
       "    </tr>\n",
       "  </thead>\n",
       "  <tbody>\n",
       "    <tr>\n",
       "      <th>1</th>\n",
       "      <td>230.1</td>\n",
       "      <td>37.8</td>\n",
       "      <td>69.2</td>\n",
       "      <td>22.1</td>\n",
       "    </tr>\n",
       "    <tr>\n",
       "      <th>2</th>\n",
       "      <td>44.5</td>\n",
       "      <td>39.3</td>\n",
       "      <td>45.1</td>\n",
       "      <td>10.4</td>\n",
       "    </tr>\n",
       "    <tr>\n",
       "      <th>3</th>\n",
       "      <td>17.2</td>\n",
       "      <td>45.9</td>\n",
       "      <td>69.3</td>\n",
       "      <td>9.3</td>\n",
       "    </tr>\n",
       "    <tr>\n",
       "      <th>4</th>\n",
       "      <td>151.5</td>\n",
       "      <td>41.3</td>\n",
       "      <td>58.5</td>\n",
       "      <td>18.5</td>\n",
       "    </tr>\n",
       "    <tr>\n",
       "      <th>5</th>\n",
       "      <td>180.8</td>\n",
       "      <td>10.8</td>\n",
       "      <td>58.4</td>\n",
       "      <td>12.9</td>\n",
       "    </tr>\n",
       "  </tbody>\n",
       "</table>\n",
       "</div>"
      ],
      "text/plain": [
       "      TV  Radio  Newspaper  Sales\n",
       "1  230.1   37.8       69.2   22.1\n",
       "2   44.5   39.3       45.1   10.4\n",
       "3   17.2   45.9       69.3    9.3\n",
       "4  151.5   41.3       58.5   18.5\n",
       "5  180.8   10.8       58.4   12.9"
      ]
     },
     "execution_count": 173,
     "metadata": {},
     "output_type": "execute_result"
    }
   ],
   "source": [
    "### Load the data\n",
    "df = pd.read_csv(\"Advertising.csv\", index_col = 0)\n",
    "\n",
    "# For visualization of data\n",
    "print(\"Size of the data:\", df.shape)\n",
    "df.head()"
   ]
  },
  {
   "cell_type": "markdown",
   "metadata": {},
   "source": [
    "## [ II ] Standardized the data set\n",
    " "
   ]
  },
  {
   "cell_type": "code",
   "execution_count": 174,
   "metadata": {},
   "outputs": [
    {
     "data": {
      "text/html": [
       "<div>\n",
       "<style scoped>\n",
       "    .dataframe tbody tr th:only-of-type {\n",
       "        vertical-align: middle;\n",
       "    }\n",
       "\n",
       "    .dataframe tbody tr th {\n",
       "        vertical-align: top;\n",
       "    }\n",
       "\n",
       "    .dataframe thead th {\n",
       "        text-align: right;\n",
       "    }\n",
       "</style>\n",
       "<table border=\"1\" class=\"dataframe\">\n",
       "  <thead>\n",
       "    <tr style=\"text-align: right;\">\n",
       "      <th></th>\n",
       "      <th>TV</th>\n",
       "      <th>Radio</th>\n",
       "      <th>Newspaper</th>\n",
       "      <th>Sales</th>\n",
       "    </tr>\n",
       "  </thead>\n",
       "  <tbody>\n",
       "    <tr>\n",
       "      <th>1</th>\n",
       "      <td>0.967425</td>\n",
       "      <td>0.979066</td>\n",
       "      <td>1.774493</td>\n",
       "      <td>1.548168</td>\n",
       "    </tr>\n",
       "    <tr>\n",
       "      <th>2</th>\n",
       "      <td>-1.194379</td>\n",
       "      <td>1.080097</td>\n",
       "      <td>0.667903</td>\n",
       "      <td>-0.694304</td>\n",
       "    </tr>\n",
       "    <tr>\n",
       "      <th>3</th>\n",
       "      <td>-1.512360</td>\n",
       "      <td>1.524637</td>\n",
       "      <td>1.779084</td>\n",
       "      <td>-0.905135</td>\n",
       "    </tr>\n",
       "    <tr>\n",
       "      <th>4</th>\n",
       "      <td>0.051919</td>\n",
       "      <td>1.214806</td>\n",
       "      <td>1.283185</td>\n",
       "      <td>0.858177</td>\n",
       "    </tr>\n",
       "    <tr>\n",
       "      <th>5</th>\n",
       "      <td>0.393196</td>\n",
       "      <td>-0.839507</td>\n",
       "      <td>1.278593</td>\n",
       "      <td>-0.215143</td>\n",
       "    </tr>\n",
       "  </tbody>\n",
       "</table>\n",
       "</div>"
      ],
      "text/plain": [
       "         TV     Radio  Newspaper     Sales\n",
       "1  0.967425  0.979066   1.774493  1.548168\n",
       "2 -1.194379  1.080097   0.667903 -0.694304\n",
       "3 -1.512360  1.524637   1.779084 -0.905135\n",
       "4  0.051919  1.214806   1.283185  0.858177\n",
       "5  0.393196 -0.839507   1.278593 -0.215143"
      ]
     },
     "execution_count": 174,
     "metadata": {},
     "output_type": "execute_result"
    }
   ],
   "source": [
    "# Standardize each column of the data\n",
    "standardized_data = (df - df.mean()) / df.std()\n",
    "\n",
    "# Check if the data is standardized\n",
    "standardized_data.head()"
   ]
  },
  {
   "cell_type": "markdown",
   "metadata": {},
   "source": [
    "## [ III ] Add bias"
   ]
  },
  {
   "cell_type": "code",
   "execution_count": 175,
   "metadata": {},
   "outputs": [],
   "source": [
    "# Add bias\n",
    "standardized_data.insert(0,'bias', 1)"
   ]
  },
  {
   "cell_type": "code",
   "execution_count": 176,
   "metadata": {},
   "outputs": [
    {
     "data": {
      "text/html": [
       "<div>\n",
       "<style scoped>\n",
       "    .dataframe tbody tr th:only-of-type {\n",
       "        vertical-align: middle;\n",
       "    }\n",
       "\n",
       "    .dataframe tbody tr th {\n",
       "        vertical-align: top;\n",
       "    }\n",
       "\n",
       "    .dataframe thead th {\n",
       "        text-align: right;\n",
       "    }\n",
       "</style>\n",
       "<table border=\"1\" class=\"dataframe\">\n",
       "  <thead>\n",
       "    <tr style=\"text-align: right;\">\n",
       "      <th></th>\n",
       "      <th>bias</th>\n",
       "      <th>TV</th>\n",
       "      <th>Radio</th>\n",
       "      <th>Newspaper</th>\n",
       "      <th>Sales</th>\n",
       "    </tr>\n",
       "  </thead>\n",
       "  <tbody>\n",
       "    <tr>\n",
       "      <th>1</th>\n",
       "      <td>1</td>\n",
       "      <td>0.967425</td>\n",
       "      <td>0.979066</td>\n",
       "      <td>1.774493</td>\n",
       "      <td>1.548168</td>\n",
       "    </tr>\n",
       "    <tr>\n",
       "      <th>2</th>\n",
       "      <td>1</td>\n",
       "      <td>-1.194379</td>\n",
       "      <td>1.080097</td>\n",
       "      <td>0.667903</td>\n",
       "      <td>-0.694304</td>\n",
       "    </tr>\n",
       "    <tr>\n",
       "      <th>3</th>\n",
       "      <td>1</td>\n",
       "      <td>-1.512360</td>\n",
       "      <td>1.524637</td>\n",
       "      <td>1.779084</td>\n",
       "      <td>-0.905135</td>\n",
       "    </tr>\n",
       "    <tr>\n",
       "      <th>4</th>\n",
       "      <td>1</td>\n",
       "      <td>0.051919</td>\n",
       "      <td>1.214806</td>\n",
       "      <td>1.283185</td>\n",
       "      <td>0.858177</td>\n",
       "    </tr>\n",
       "    <tr>\n",
       "      <th>5</th>\n",
       "      <td>1</td>\n",
       "      <td>0.393196</td>\n",
       "      <td>-0.839507</td>\n",
       "      <td>1.278593</td>\n",
       "      <td>-0.215143</td>\n",
       "    </tr>\n",
       "    <tr>\n",
       "      <th>...</th>\n",
       "      <td>...</td>\n",
       "      <td>...</td>\n",
       "      <td>...</td>\n",
       "      <td>...</td>\n",
       "      <td>...</td>\n",
       "    </tr>\n",
       "    <tr>\n",
       "      <th>196</th>\n",
       "      <td>1</td>\n",
       "      <td>-1.267759</td>\n",
       "      <td>-1.317724</td>\n",
       "      <td>-0.769287</td>\n",
       "      <td>-1.230964</td>\n",
       "    </tr>\n",
       "    <tr>\n",
       "      <th>197</th>\n",
       "      <td>1</td>\n",
       "      <td>-0.615491</td>\n",
       "      <td>-1.236899</td>\n",
       "      <td>-1.031011</td>\n",
       "      <td>-0.828469</td>\n",
       "    </tr>\n",
       "    <tr>\n",
       "      <th>198</th>\n",
       "      <td>1</td>\n",
       "      <td>0.348934</td>\n",
       "      <td>-0.940539</td>\n",
       "      <td>-1.109069</td>\n",
       "      <td>-0.234310</td>\n",
       "    </tr>\n",
       "    <tr>\n",
       "      <th>199</th>\n",
       "      <td>1</td>\n",
       "      <td>1.590574</td>\n",
       "      <td>1.261955</td>\n",
       "      <td>1.636743</td>\n",
       "      <td>2.199827</td>\n",
       "    </tr>\n",
       "    <tr>\n",
       "      <th>200</th>\n",
       "      <td>1</td>\n",
       "      <td>0.990720</td>\n",
       "      <td>-0.987687</td>\n",
       "      <td>-1.003461</td>\n",
       "      <td>-0.119311</td>\n",
       "    </tr>\n",
       "  </tbody>\n",
       "</table>\n",
       "<p>200 rows × 5 columns</p>\n",
       "</div>"
      ],
      "text/plain": [
       "     bias        TV     Radio  Newspaper     Sales\n",
       "1       1  0.967425  0.979066   1.774493  1.548168\n",
       "2       1 -1.194379  1.080097   0.667903 -0.694304\n",
       "3       1 -1.512360  1.524637   1.779084 -0.905135\n",
       "4       1  0.051919  1.214806   1.283185  0.858177\n",
       "5       1  0.393196 -0.839507   1.278593 -0.215143\n",
       "..    ...       ...       ...        ...       ...\n",
       "196     1 -1.267759 -1.317724  -0.769287 -1.230964\n",
       "197     1 -0.615491 -1.236899  -1.031011 -0.828469\n",
       "198     1  0.348934 -0.940539  -1.109069 -0.234310\n",
       "199     1  1.590574  1.261955   1.636743  2.199827\n",
       "200     1  0.990720 -0.987687  -1.003461 -0.119311\n",
       "\n",
       "[200 rows x 5 columns]"
      ]
     },
     "execution_count": 176,
     "metadata": {},
     "output_type": "execute_result"
    }
   ],
   "source": [
    "# Check Values\n",
    "standardized_data"
   ]
  },
  {
   "cell_type": "markdown",
   "metadata": {},
   "source": [
    "## [ IV ] Dividing the dataset into training and testing"
   ]
  },
  {
   "cell_type": "markdown",
   "metadata": {},
   "source": [
    "Training: 85%    ,  Testing: 15%"
   ]
  },
  {
   "cell_type": "code",
   "execution_count": 177,
   "metadata": {},
   "outputs": [],
   "source": [
    "x = standardized_data.drop(\"Sales\", axis = 1)\n",
    "y = standardized_data[\"Sales\"]"
   ]
  },
  {
   "cell_type": "code",
   "execution_count": 178,
   "metadata": {},
   "outputs": [],
   "source": [
    "from sklearn.model_selection import train_test_split\n",
    "\n",
    "# Split the data into training and testing sets\n",
    "x_train, x_test, y_train, y_test = train_test_split(x, y, train_size=0.85, test_size=0.15, random_state = 42)"
   ]
  },
  {
   "cell_type": "code",
   "execution_count": 179,
   "metadata": {},
   "outputs": [
    {
     "name": "stdout",
     "output_type": "stream",
     "text": [
      "Predictors:\n",
      "     bias        TV     Radio  Newspaper\n",
      "10      1  0.614501 -1.391814  -0.429504\n",
      "19      1 -0.906682 -0.186168  -0.562662\n",
      "56      1  0.604018  1.760378   1.352060\n",
      "76      1 -1.515854  1.376457   2.702008\n",
      "151     1  1.556796 -0.630708   0.295978\n",
      "..    ...       ...       ...        ...\n",
      "107     1 -1.421508 -0.826036  -0.039213\n",
      "15      1  0.664586  0.649028   0.709228\n",
      "93      1  0.822994  0.689441   1.306143\n",
      "180     1  0.216151 -0.893391  -0.594804\n",
      "103     1  1.550972 -0.886655  -0.420320\n",
      "\n",
      "[170 rows x 4 columns]\n",
      "Sales:\n",
      "10    -0.655971\n",
      "19    -0.521806\n",
      "56     1.854831\n",
      "76    -1.020133\n",
      "151    0.398183\n",
      "         ...   \n",
      "107   -1.307629\n",
      "15     0.954009\n",
      "93     1.030675\n",
      "180   -0.272642\n",
      "103    0.149019\n",
      "Name: Sales, Length: 170, dtype: float64\n"
     ]
    }
   ],
   "source": [
    "# Dataset for training\n",
    "print (\"Predictors:\")\n",
    "print (x_train)\n",
    "print (\"Sales:\")\n",
    "print (y_train)"
   ]
  },
  {
   "cell_type": "markdown",
   "metadata": {},
   "source": [
    "## [ V ] Functions to Use (for fitting the model)"
   ]
  },
  {
   "cell_type": "markdown",
   "metadata": {},
   "source": [
    "Initial weights"
   ]
  },
  {
   "cell_type": "code",
   "execution_count": 180,
   "metadata": {},
   "outputs": [],
   "source": [
    "def initialize_weights():\n",
    "    random.seed(42)\n",
    "    theta_0 = random.uniform(0,1)\n",
    "    theta_1 = random.uniform(0,1)\n",
    "    theta_2 = random.uniform(0,1)\n",
    "    theta_3 = random.uniform(0,1)\n",
    "    \n",
    "    return np.array([theta_0,theta_1,theta_2,theta_3])"
   ]
  },
  {
   "cell_type": "code",
   "execution_count": 181,
   "metadata": {},
   "outputs": [
    {
     "data": {
      "text/plain": [
       "array([0.6394268 , 0.02501076, 0.27502932, 0.22321074])"
      ]
     },
     "execution_count": 181,
     "metadata": {},
     "output_type": "execute_result"
    }
   ],
   "source": [
    "#Checking the function\n",
    "initialize_weights()"
   ]
  },
  {
   "cell_type": "markdown",
   "metadata": {},
   "source": [
    "Vector for predicted values of y"
   ]
  },
  {
   "cell_type": "code",
   "execution_count": 182,
   "metadata": {},
   "outputs": [],
   "source": [
    "def predict(x, weights):\n",
    "    return np.dot(x, weights)"
   ]
  },
  {
   "cell_type": "markdown",
   "metadata": {},
   "source": [
    "Function compute_cost $$ \\frac{1}{2m}\\sum_{i=1}^{m}(h_\\theta(x^{(i)}) - y^{(i)})^2 $$"
   ]
  },
  {
   "cell_type": "code",
   "execution_count": 183,
   "metadata": {},
   "outputs": [],
   "source": [
    "def compute_cost(y_pred, y):\n",
    "    # Variable for error and m\n",
    "    error = (y_pred - y)\n",
    "    m = len(y)\n",
    "    \n",
    "    # Solve for cost\n",
    "    return np.sum(error**2)/(2*m)"
   ]
  },
  {
   "cell_type": "markdown",
   "metadata": {},
   "source": [
    "Function compute_gradient $$ \\alpha\\frac{1}{m}\\sum_{i=1}^{m}((\\hat{y}^{(i)}) - y^{(i)})x_j^{(i)} $$"
   ]
  },
  {
   "cell_type": "code",
   "execution_count": 184,
   "metadata": {},
   "outputs": [],
   "source": [
    "def compute_gradient(y_pred, y, x):\n",
    "    # Variable for error\n",
    "    error = (y_pred - y)\n",
    "    m = len(y)\n",
    "\n",
    "    # Partial derivative\n",
    "    return np.dot(x.T, error) / m"
   ]
  },
  {
   "cell_type": "markdown",
   "metadata": {},
   "source": [
    "Function update_weights $$ \\theta_j := \\theta_j - awx_j^{(i)} $$"
   ]
  },
  {
   "cell_type": "code",
   "execution_count": 185,
   "metadata": {},
   "outputs": [],
   "source": [
    "def update_weights(weights, gradient, lrate):\n",
    "    return weights - (lrate*gradient)"
   ]
  },
  {
   "cell_type": "markdown",
   "metadata": {},
   "source": [
    "Function grad_descent "
   ]
  },
  {
   "cell_type": "code",
   "execution_count": 186,
   "metadata": {},
   "outputs": [],
   "source": [
    "def grad_descent(x, y , iterations, lrate):\n",
    "    # Initialize weights\n",
    "    weights = initialize_weights()\n",
    "\n",
    "    # Cost and weights matrix\n",
    "    costs_matrix = []\n",
    "    weights_matrix = []\n",
    "\n",
    "    for i in range(iterations):\n",
    "        # Predicted sales\n",
    "        y_pred = predict(x, weights)\n",
    "\n",
    "        # Cost\n",
    "        cost = compute_cost(y_pred, y)\n",
    "\n",
    "        # Compute the gradient\n",
    "        gradient = compute_gradient(y_pred, y, x)\n",
    "\n",
    "        # Update the weights\n",
    "        weights = update_weights(weights, gradient, lrate)\n",
    "\n",
    "        # Concatenate to the matrices\n",
    "        costs_matrix.append(cost)\n",
    "        weights_matrix.append(weights)\n",
    "        \n",
    "    return costs_matrix, weights_matrix    "
   ]
  },
  {
   "cell_type": "markdown",
   "metadata": {},
   "source": [
    "Function plot_costs"
   ]
  },
  {
   "cell_type": "code",
   "execution_count": 187,
   "metadata": {},
   "outputs": [],
   "source": [
    "def plot_costs(cost):\n",
    "    costs = pd.DataFrame(cost, columns = ['Costs'])\n",
    "\n",
    "    # Plot dimensions and labels\n",
    "    fig, ax = plt.subplots(figsize=(13, 7))\n",
    "    plt.xlabel('Iterations')\n",
    "    plt.ylabel('Cost')\n",
    "\n",
    "    # Plotting the data\n",
    "    ax.plot(costs.index, costs['Costs'], label='Costs', marker='o', color='red')\n",
    "\n",
    "    # Show plot\n",
    "    plt.show()\n",
    "    "
   ]
  },
  {
   "cell_type": "markdown",
   "metadata": {},
   "source": [
    "## [ VI ]Predicting y using TRAINING data and its costs"
   ]
  },
  {
   "cell_type": "markdown",
   "metadata": {},
   "source": [
    "Train Model"
   ]
  },
  {
   "cell_type": "code",
   "execution_count": 188,
   "metadata": {},
   "outputs": [],
   "source": [
    "costs_train, weights_train = grad_descent(x_train, y_train, 5000, 0.001)"
   ]
  },
  {
   "cell_type": "code",
   "execution_count": 189,
   "metadata": {},
   "outputs": [
    {
     "data": {
      "image/png": "[encoded data removed]",
      "text/plain": [
       "<Figure size 1300x700 with 1 Axes>"
      ]
     },
     "metadata": {},
     "output_type": "display_data"
    }
   ],
   "source": [
    "plot_costs(costs_train)"
   ]
  },
  {
   "cell_type": "code",
   "execution_count": 190,
   "metadata": {},
   "outputs": [
    {
     "data": {
      "text/plain": [
       "[0.051202000057838495,\n",
       " 0.0512018342231698,\n",
       " 0.05120166862623004,\n",
       " 0.05120150326665697,\n",
       " 0.05120133814408903,\n",
       " 0.051201173258165145,\n",
       " 0.05120100860852493,\n",
       " 0.05120084419480847,\n",
       " 0.05120068001665653,\n",
       " 0.051200516073710386]"
      ]
     },
     "execution_count": 190,
     "metadata": {},
     "output_type": "execute_result"
    }
   ],
   "source": [
    "# look at the final costs\n",
    "costs_train[-10:]"
   ]
  },
  {
   "cell_type": "markdown",
   "metadata": {},
   "source": [
    "Predicted sales for training data"
   ]
  },
  {
   "cell_type": "code",
   "execution_count": 191,
   "metadata": {},
   "outputs": [
    {
     "data": {
      "text/plain": [
       "array([-0.28282328, -0.76503163,  1.39551965, -0.33454856,  0.8188765 ,\n",
       "        1.15359475, -0.01329177,  1.30760966, -0.57114883, -1.78726664,\n",
       "       -0.81521405, -0.25168265, -0.75504462, -1.10333965, -0.08799076,\n",
       "       -1.62715062, -0.89474096,  0.0216003 , -0.9743246 , -0.458655  ,\n",
       "        0.25479198, -0.39782656, -0.23171451, -0.61221945, -1.40335436,\n",
       "       -0.76535063, -0.85727192,  1.91143462, -1.20298511, -0.28167711,\n",
       "        0.70892823,  0.2417652 , -0.48636523, -0.59833394,  0.53515806,\n",
       "       -1.34560633,  1.38958861, -1.48869199, -0.7690581 , -0.48919145,\n",
       "       -0.89618802, -1.40363745,  0.17181025,  0.62615864,  0.34431817,\n",
       "        0.42933489,  0.17006727,  1.03609592, -0.00771508,  1.32830176,\n",
       "       -0.26984661, -0.04792313, -0.95172542,  0.56406468, -1.06410615,\n",
       "        0.25463811, -0.0588939 ,  1.73409658, -0.29914502,  1.68623822,\n",
       "       -1.38068411,  0.86806767,  1.79506435,  0.8773305 ,  0.58786547,\n",
       "        0.44576525, -0.29385851, -0.42554315,  0.56085995,  0.09420773,\n",
       "       -0.12563579, -1.18942721,  0.98924968, -0.82428517,  1.03855913,\n",
       "       -0.7204658 , -1.30691969,  0.51502053, -0.05007495,  0.21721528,\n",
       "       -0.5947556 ,  1.25825278,  1.86053293,  0.79967838,  0.71547687,\n",
       "        0.18864509,  0.55982187, -0.93745396,  0.60694292,  1.00295816,\n",
       "        0.44527208, -1.94864133, -1.64464629,  0.2843561 ,  0.28555116,\n",
       "        0.46992902,  0.84592233,  1.74672416,  0.12345679,  1.20777886,\n",
       "        0.62151718,  1.43311613, -0.67515567,  0.26026586, -0.01304728,\n",
       "       -0.79559584,  0.70374564,  0.76864247,  1.1423525 ,  0.9995164 ,\n",
       "       -0.66112619,  0.36400511,  1.26385317, -1.08153067, -0.48118834,\n",
       "       -1.22339101, -0.36738139,  0.16447335, -1.77182766,  0.09074465,\n",
       "        1.10719362, -0.01952561,  0.5727182 , -1.94605609, -0.98885521,\n",
       "        0.75249018,  0.08416452,  0.3022714 ,  1.74875352, -0.68343047,\n",
       "        2.0284916 , -0.36307858, -0.13257569,  1.93437849, -0.16525955,\n",
       "        1.17612119, -1.2951522 , -0.25467474, -1.11180459,  1.48662441,\n",
       "        0.44013456, -0.38232294,  0.12791906, -0.24124729,  0.04026037,\n",
       "       -1.77810828, -1.12822441,  0.32568515, -0.75259295,  0.81607588,\n",
       "       -0.28953237,  1.25634861, -0.78456498, -0.68067848, -0.72784757,\n",
       "        0.12969723,  0.56912232, -0.38200703,  0.33487234,  0.6051145 ,\n",
       "       -1.12712835,  0.19501628,  0.78886401,  0.83806167, -0.62784952,\n",
       "       -1.46899057,  0.84516577,  0.99246552, -0.31534838,  0.66799864])"
      ]
     },
     "execution_count": 191,
     "metadata": {},
     "output_type": "execute_result"
    }
   ],
   "source": [
    "y_pred_training = predict(x_train,weights_train[-1])\n",
    "y_pred_training"
   ]
  },
  {
   "cell_type": "markdown",
   "metadata": {},
   "source": [
    "Cost (train)"
   ]
  },
  {
   "cell_type": "code",
   "execution_count": 192,
   "metadata": {},
   "outputs": [
    {
     "data": {
      "text/plain": [
       "0.051200352365611934"
      ]
     },
     "execution_count": 192,
     "metadata": {},
     "output_type": "execute_result"
    }
   ],
   "source": [
    "compute_cost(y_pred_training,y_train)"
   ]
  },
  {
   "cell_type": "markdown",
   "metadata": {},
   "source": [
    "Check MSE (train)"
   ]
  },
  {
   "cell_type": "code",
   "execution_count": 193,
   "metadata": {},
   "outputs": [
    {
     "data": {
      "text/plain": [
       "0.10240070473122387"
      ]
     },
     "execution_count": 193,
     "metadata": {},
     "output_type": "execute_result"
    }
   ],
   "source": [
    "mean_squared_error(y_train, y_pred_training)"
   ]
  },
  {
   "cell_type": "markdown",
   "metadata": {},
   "source": [
    "## [ VII ]Predict y using TESTING data and its cost"
   ]
  },
  {
   "cell_type": "markdown",
   "metadata": {},
   "source": [
    "Test Model"
   ]
  },
  {
   "cell_type": "code",
   "execution_count": 194,
   "metadata": {},
   "outputs": [],
   "source": [
    "costs_test, weights_test = grad_descent(x_test, y_test, 5000, 0.001)"
   ]
  },
  {
   "cell_type": "code",
   "execution_count": 195,
   "metadata": {},
   "outputs": [
    {
     "data": {
      "text/plain": [
       "array([ 0.43147557,  1.30780554,  1.6135501 , -0.86378109,  1.69613083,\n",
       "       -0.31949848,  1.43713931, -1.31328231,  0.11174239,  0.27341663,\n",
       "       -1.01181119, -1.47951067,  0.09020484, -1.09898611, -0.77732006,\n",
       "       -0.29332444, -1.20570023,  0.55705174, -0.78901161,  1.10178601,\n",
       "        1.06666762, -0.4562427 , -0.42084296,  1.42743628, -1.17155827,\n",
       "       -1.61848773,  1.36034381, -0.31589371, -0.95429153, -1.14895613])"
      ]
     },
     "execution_count": 195,
     "metadata": {},
     "output_type": "execute_result"
    }
   ],
   "source": [
    "y_pred_testing = predict(x_test,weights_test[-1])\n",
    "y_pred_testing"
   ]
  },
  {
   "cell_type": "markdown",
   "metadata": {},
   "source": [
    "Cost (test)"
   ]
  },
  {
   "cell_type": "code",
   "execution_count": 196,
   "metadata": {},
   "outputs": [
    {
     "data": {
      "text/plain": [
       "0.04557134683524103"
      ]
     },
     "execution_count": 196,
     "metadata": {},
     "output_type": "execute_result"
    }
   ],
   "source": [
    "compute_cost(y_pred_testing,y_test)"
   ]
  },
  {
   "cell_type": "markdown",
   "metadata": {},
   "source": [
    "Check MSE (test)"
   ]
  },
  {
   "cell_type": "code",
   "execution_count": 197,
   "metadata": {},
   "outputs": [
    {
     "data": {
      "text/plain": [
       "0.09114269367048206"
      ]
     },
     "execution_count": 197,
     "metadata": {},
     "output_type": "execute_result"
    }
   ],
   "source": [
    "mean_squared_error(y_test, y_pred_testing)"
   ]
  },
  {
   "cell_type": "markdown",
   "metadata": {},
   "source": [
    "## [ VIII ]De-standardize both test and training data"
   ]
  },
  {
   "cell_type": "code",
   "execution_count": 198,
   "metadata": {},
   "outputs": [],
   "source": [
    "destan_data = pd.DataFrame()"
   ]
  },
  {
   "cell_type": "code",
   "execution_count": 199,
   "metadata": {},
   "outputs": [
    {
     "data": {
      "text/html": [
       "<div>\n",
       "<style scoped>\n",
       "    .dataframe tbody tr th:only-of-type {\n",
       "        vertical-align: middle;\n",
       "    }\n",
       "\n",
       "    .dataframe tbody tr th {\n",
       "        vertical-align: top;\n",
       "    }\n",
       "\n",
       "    .dataframe thead th {\n",
       "        text-align: right;\n",
       "    }\n",
       "</style>\n",
       "<table border=\"1\" class=\"dataframe\">\n",
       "  <thead>\n",
       "    <tr style=\"text-align: right;\">\n",
       "      <th></th>\n",
       "      <th>TV</th>\n",
       "      <th>Radio</th>\n",
       "      <th>Newspaper</th>\n",
       "      <th>Sales</th>\n",
       "    </tr>\n",
       "  </thead>\n",
       "  <tbody>\n",
       "    <tr>\n",
       "      <th>1</th>\n",
       "      <td>230.1</td>\n",
       "      <td>37.8</td>\n",
       "      <td>69.2</td>\n",
       "      <td>22.1</td>\n",
       "    </tr>\n",
       "    <tr>\n",
       "      <th>2</th>\n",
       "      <td>44.5</td>\n",
       "      <td>39.3</td>\n",
       "      <td>45.1</td>\n",
       "      <td>10.4</td>\n",
       "    </tr>\n",
       "    <tr>\n",
       "      <th>3</th>\n",
       "      <td>17.2</td>\n",
       "      <td>45.9</td>\n",
       "      <td>69.3</td>\n",
       "      <td>9.3</td>\n",
       "    </tr>\n",
       "    <tr>\n",
       "      <th>4</th>\n",
       "      <td>151.5</td>\n",
       "      <td>41.3</td>\n",
       "      <td>58.5</td>\n",
       "      <td>18.5</td>\n",
       "    </tr>\n",
       "    <tr>\n",
       "      <th>5</th>\n",
       "      <td>180.8</td>\n",
       "      <td>10.8</td>\n",
       "      <td>58.4</td>\n",
       "      <td>12.9</td>\n",
       "    </tr>\n",
       "  </tbody>\n",
       "</table>\n",
       "</div>"
      ],
      "text/plain": [
       "      TV  Radio  Newspaper  Sales\n",
       "1  230.1   37.8       69.2   22.1\n",
       "2   44.5   39.3       45.1   10.4\n",
       "3   17.2   45.9       69.3    9.3\n",
       "4  151.5   41.3       58.5   18.5\n",
       "5  180.8   10.8       58.4   12.9"
      ]
     },
     "execution_count": 199,
     "metadata": {},
     "output_type": "execute_result"
    }
   ],
   "source": [
    "# Standardize each column of the data\n",
    "# Standard deviations\n",
    "std_tv = df.TV.std()\n",
    "std_radio = df.Radio.std()\n",
    "std_news = df.Newspaper.std()\n",
    "std_sales = df.Sales.std()\n",
    "# Means\n",
    "mean_tv = df.TV.mean()\n",
    "mean_radio = df.Radio.mean()\n",
    "mean_news = df.Newspaper.mean()\n",
    "mean_sales = df.Sales.mean()\n",
    "\n",
    "# One by one de-standardization to not edit bias\n",
    "destan_data['TV'] = standardized_data.TV.apply(lambda x: (x*std_tv+mean_tv))\n",
    "destan_data['Radio'] = standardized_data.Radio.apply(lambda x: (x*std_radio+mean_radio))\n",
    "destan_data['Newspaper'] = standardized_data.Newspaper.apply(lambda x: (x*std_news+mean_news))\n",
    "destan_data['Sales'] = standardized_data.Sales.apply(lambda x: (x*std_sales+mean_sales))\n",
    "\n",
    "\n",
    "\n",
    "# Check if the data is standardized\n",
    "destan_data.head()"
   ]
  },
  {
   "cell_type": "markdown",
   "metadata": {},
   "source": [
    "## [ IX ] Observe and Analyse"
   ]
  },
  {
   "cell_type": "code",
   "execution_count": 200,
   "metadata": {},
   "outputs": [],
   "source": [
    "destan_x = destan_data.drop(\"Sales\", axis=1)\n",
    "destan_y = destan_data.Sales"
   ]
  },
  {
   "cell_type": "code",
   "execution_count": 201,
   "metadata": {},
   "outputs": [],
   "source": [
    "desx_train, desx_test, desy_train, desy_test = train_test_split(x, y, train_size=0.85, test_size=0.15, random_state = 42)"
   ]
  },
  {
   "cell_type": "code",
   "execution_count": 202,
   "metadata": {},
   "outputs": [],
   "source": [
    "destantrain_cost , destantrain_weight = grad_descent(desx_train, desy_train, 5000, 0.001)"
   ]
  },
  {
   "cell_type": "code",
   "execution_count": 203,
   "metadata": {},
   "outputs": [
    {
     "data": {
      "text/plain": [
       "array([-0.28282328, -0.76503163,  1.39551965, -0.33454856,  0.8188765 ,\n",
       "        1.15359475, -0.01329177,  1.30760966, -0.57114883, -1.78726664,\n",
       "       -0.81521405, -0.25168265, -0.75504462, -1.10333965, -0.08799076,\n",
       "       -1.62715062, -0.89474096,  0.0216003 , -0.9743246 , -0.458655  ,\n",
       "        0.25479198, -0.39782656, -0.23171451, -0.61221945, -1.40335436,\n",
       "       -0.76535063, -0.85727192,  1.91143462, -1.20298511, -0.28167711,\n",
       "        0.70892823,  0.2417652 , -0.48636523, -0.59833394,  0.53515806,\n",
       "       -1.34560633,  1.38958861, -1.48869199, -0.7690581 , -0.48919145,\n",
       "       -0.89618802, -1.40363745,  0.17181025,  0.62615864,  0.34431817,\n",
       "        0.42933489,  0.17006727,  1.03609592, -0.00771508,  1.32830176,\n",
       "       -0.26984661, -0.04792313, -0.95172542,  0.56406468, -1.06410615,\n",
       "        0.25463811, -0.0588939 ,  1.73409658, -0.29914502,  1.68623822,\n",
       "       -1.38068411,  0.86806767,  1.79506435,  0.8773305 ,  0.58786547,\n",
       "        0.44576525, -0.29385851, -0.42554315,  0.56085995,  0.09420773,\n",
       "       -0.12563579, -1.18942721,  0.98924968, -0.82428517,  1.03855913,\n",
       "       -0.7204658 , -1.30691969,  0.51502053, -0.05007495,  0.21721528,\n",
       "       -0.5947556 ,  1.25825278,  1.86053293,  0.79967838,  0.71547687,\n",
       "        0.18864509,  0.55982187, -0.93745396,  0.60694292,  1.00295816,\n",
       "        0.44527208, -1.94864133, -1.64464629,  0.2843561 ,  0.28555116,\n",
       "        0.46992902,  0.84592233,  1.74672416,  0.12345679,  1.20777886,\n",
       "        0.62151718,  1.43311613, -0.67515567,  0.26026586, -0.01304728,\n",
       "       -0.79559584,  0.70374564,  0.76864247,  1.1423525 ,  0.9995164 ,\n",
       "       -0.66112619,  0.36400511,  1.26385317, -1.08153067, -0.48118834,\n",
       "       -1.22339101, -0.36738139,  0.16447335, -1.77182766,  0.09074465,\n",
       "        1.10719362, -0.01952561,  0.5727182 , -1.94605609, -0.98885521,\n",
       "        0.75249018,  0.08416452,  0.3022714 ,  1.74875352, -0.68343047,\n",
       "        2.0284916 , -0.36307858, -0.13257569,  1.93437849, -0.16525955,\n",
       "        1.17612119, -1.2951522 , -0.25467474, -1.11180459,  1.48662441,\n",
       "        0.44013456, -0.38232294,  0.12791906, -0.24124729,  0.04026037,\n",
       "       -1.77810828, -1.12822441,  0.32568515, -0.75259295,  0.81607588,\n",
       "       -0.28953237,  1.25634861, -0.78456498, -0.68067848, -0.72784757,\n",
       "        0.12969723,  0.56912232, -0.38200703,  0.33487234,  0.6051145 ,\n",
       "       -1.12712835,  0.19501628,  0.78886401,  0.83806167, -0.62784952,\n",
       "       -1.46899057,  0.84516577,  0.99246552, -0.31534838,  0.66799864])"
      ]
     },
     "execution_count": 203,
     "metadata": {},
     "output_type": "execute_result"
    }
   ],
   "source": [
    "destantrain_ypred = predict(desx_train, destantrain_weight[-1])\n",
    "destantrain_ypred"
   ]
  },
  {
   "cell_type": "markdown",
   "metadata": {},
   "source": [
    "Cost (destandardized train)"
   ]
  },
  {
   "cell_type": "code",
   "execution_count": 204,
   "metadata": {},
   "outputs": [
    {
     "data": {
      "text/plain": [
       "0.051200352365611934"
      ]
     },
     "execution_count": 204,
     "metadata": {},
     "output_type": "execute_result"
    }
   ],
   "source": [
    "compute_cost(destantrain_ypred , desy_train)"
   ]
  },
  {
   "cell_type": "markdown",
   "metadata": {},
   "source": [
    "Check MSE (destandardized train)"
   ]
  },
  {
   "cell_type": "code",
   "execution_count": 205,
   "metadata": {},
   "outputs": [
    {
     "data": {
      "text/plain": [
       "0.10240070473122387"
      ]
     },
     "execution_count": 205,
     "metadata": {},
     "output_type": "execute_result"
    }
   ],
   "source": [
    "mean_squared_error(desy_train, destantrain_ypred)"
   ]
  },
  {
   "cell_type": "markdown",
   "metadata": {},
   "source": [
    "The resulting cost and MSE of the standardized and destandardized/original dataset are similar. We can assume that even if the dataset was not normalized, it will produce the same results"
   ]
  },
  {
   "cell_type": "markdown",
   "metadata": {},
   "source": [
    "## ::QUESTIONS::"
   ]
  },
  {
   "cell_type": "markdown",
   "metadata": {},
   "source": [
    "**1.) What are the optimal weights found by your implemented gradient descent? Plug it into the linear model:**"
   ]
  },
  {
   "cell_type": "markdown",
   "metadata": {},
   "source": [
    "$$ h_\\theta(x) = \\theta_0 + \\theta_1TV + \\theta_2Radio + \\theta_3Newspaper $$"
   ]
  },
  {
   "cell_type": "markdown",
   "metadata": {},
   "source": [
    "What are your interpretations regarding the linear model?"
   ]
  },
  {
   "cell_type": "markdown",
   "metadata": {},
   "source": [
    "With initialized weights generated randomly below"
   ]
  },
  {
   "cell_type": "code",
   "execution_count": 206,
   "metadata": {},
   "outputs": [],
   "source": [
    "opt_cost, optimal_weights = grad_descent(x_train,y_train,5000,0.001)"
   ]
  },
  {
   "cell_type": "code",
   "execution_count": 207,
   "metadata": {},
   "outputs": [
    {
     "data": {
      "text/plain": [
       "array([0.00584465, 0.73181605, 0.52526293, 0.0169989 ])"
      ]
     },
     "execution_count": 207,
     "metadata": {},
     "output_type": "execute_result"
    }
   ],
   "source": [
    "optimal_weights[-1]"
   ]
  },
  {
   "cell_type": "markdown",
   "metadata": {},
   "source": [
    "The result will be: if weights are initialized as 0"
   ]
  },
  {
   "cell_type": "markdown",
   "metadata": {},
   "source": [
    "h0(x) = 0.00584465() + (0.73181605)TV + (0.52526293)Radio + (0.0169989)Newspaper"
   ]
  },
  {
   "cell_type": "markdown",
   "metadata": {},
   "source": [
    "with the model, we can see that TV has the biggest impact on sales, proceeded by Radio and with the least impact on sales, Newspaper."
   ]
  },
  {
   "cell_type": "markdown",
   "metadata": {},
   "source": [
    "**2.) Provide a scatter plot of the $\\hat{y}^{(i)}$ and $y^{(i)}$ for both the train and test set. Is there a trend? Provide an r2 score (also available in sklearn).**"
   ]
  },
  {
   "cell_type": "markdown",
   "metadata": {},
   "source": [
    "$\\hat{y}$ vs y of training data"
   ]
  },
  {
   "cell_type": "code",
   "execution_count": 240,
   "metadata": {},
   "outputs": [
    {
     "data": {
      "text/plain": [
       "0.8934279216132959"
      ]
     },
     "execution_count": 240,
     "metadata": {},
     "output_type": "execute_result"
    }
   ],
   "source": [
    "r2_train = r2_score(y_train, y_pred_training)\n",
    "\n",
    "r2_train"
   ]
  },
  {
   "cell_type": "code",
   "execution_count": 209,
   "metadata": {},
   "outputs": [
    {
     "data": {
      "image/png": "[encoded data removed]",
      "text/plain": [
       "<Figure size 640x480 with 1 Axes>"
      ]
     },
     "metadata": {},
     "output_type": "display_data"
    }
   ],
   "source": [
    "# Scatter Plot for Training Data\n",
    "plt.scatter(y_pred_training, y_train, color='red', marker='o')\n",
    "plt.title(\"Scatter Plot for Training Data\")\n",
    "plt.xlabel(\"Predicted Sales\")\n",
    "plt.ylabel(\"Actual Sales\")\n",
    "plt.show()\n"
   ]
  },
  {
   "cell_type": "markdown",
   "metadata": {},
   "source": [
    "$\\hat{y}$ vs y of testing data"
   ]
  },
  {
   "cell_type": "code",
   "execution_count": 242,
   "metadata": {},
   "outputs": [
    {
     "data": {
      "text/plain": [
       "0.922655961316777"
      ]
     },
     "execution_count": 242,
     "metadata": {},
     "output_type": "execute_result"
    }
   ],
   "source": [
    "r2_test = r2_score(y_test, y_pred_testing)\n",
    "\n",
    "r2_test"
   ]
  },
  {
   "cell_type": "code",
   "execution_count": 211,
   "metadata": {},
   "outputs": [
    {
     "data": {
      "image/png": "[encoded data removed]",
      "text/plain": [
       "<Figure size 640x480 with 1 Axes>"
      ]
     },
     "metadata": {},
     "output_type": "display_data"
    }
   ],
   "source": [
    "# Scatter Plot for Training Data\n",
    "\n",
    "plt.scatter(y_pred_testing, y_test, color='red', marker='o')\n",
    "plt.title(\"Scatter Plot for Testing Data\")\n",
    "plt.xlabel(\"Predicted Sales\")\n",
    "plt.ylabel(\"Actual Sales\")\n",
    "plt.show()"
   ]
  },
  {
   "cell_type": "markdown",
   "metadata": {},
   "source": [
    "Both plot form an almost linear line, implying that the as the actual sales get bigger, so does the predicted sales. In the scatterplot we can see that the data is not too scattered, which could mean that the gradient descent made produced a good approximation of the sales."
   ]
  },
  {
   "cell_type": "markdown",
   "metadata": {},
   "source": [
    "**3.) What happens to the error, r2, and cost as the number of iterations increase? Show your data and proof. You can alternatively plot your result data for visualization and check until 50000 iterations or more (actually).**"
   ]
  },
  {
   "cell_type": "markdown",
   "metadata": {},
   "source": [
    "[] 100 []"
   ]
  },
  {
   "cell_type": "code",
   "execution_count": 212,
   "metadata": {},
   "outputs": [
    {
     "data": {
      "image/png": "[encoded data removed]",
      "text/plain": [
       "<Figure size 1300x700 with 1 Axes>"
      ]
     },
     "metadata": {},
     "output_type": "display_data"
    }
   ],
   "source": [
    "cost_100, weights_100 = grad_descent(x_train, y_train, 100, 0.01)\n",
    "\n",
    "plot_costs(cost_100)"
   ]
  },
  {
   "cell_type": "code",
   "execution_count": 215,
   "metadata": {},
   "outputs": [
    {
     "name": "stdout",
     "output_type": "stream",
     "text": [
      "100_Error: 10    -0.546344\n",
      "19    -0.184286\n",
      "56     0.403360\n",
      "76    -1.517259\n",
      "151   -0.352394\n",
      "         ...   \n",
      "107   -0.539350\n",
      "15     0.028509\n",
      "93    -0.071377\n",
      "180   -0.160490\n",
      "103   -0.389466\n",
      "Name: Sales, Length: 170, dtype: float64\n",
      "100_R2: 0.7398554981237123\n"
     ]
    }
   ],
   "source": [
    "y_pred100 = predict(x_train,weights_100[-1])\n",
    "\n",
    "# Outputs error and r2\n",
    "print (\"100_Error:\", y_train - y_pred100)\n",
    "print (\"100_R2:\", r2_score(y_train, y_pred100))"
   ]
  },
  {
   "cell_type": "markdown",
   "metadata": {},
   "source": [
    "[] 1000 []"
   ]
  },
  {
   "cell_type": "code",
   "execution_count": 216,
   "metadata": {},
   "outputs": [
    {
     "data": {
      "image/png": "[encoded data removed]",
      "text/plain": [
       "<Figure size 1300x700 with 1 Axes>"
      ]
     },
     "metadata": {},
     "output_type": "display_data"
    }
   ],
   "source": [
    "cost_1000, weights_1000 = grad_descent(x_train, y_train, 1000, 0.01)\n",
    "\n",
    "plot_costs(cost_1000)"
   ]
  },
  {
   "cell_type": "code",
   "execution_count": 217,
   "metadata": {},
   "outputs": [
    {
     "name": "stdout",
     "output_type": "stream",
     "text": [
      "1000_Error: 10    -0.362337\n",
      "19     0.248165\n",
      "56     0.460728\n",
      "76    -0.650671\n",
      "151   -0.413517\n",
      "         ...   \n",
      "107    0.182701\n",
      "15     0.113063\n",
      "93     0.048968\n",
      "180    0.048362\n",
      "103   -0.518511\n",
      "Name: Sales, Length: 170, dtype: float64\n",
      "1000_R2: 0.8936788072616394\n"
     ]
    }
   ],
   "source": [
    "y_pred1000 = predict(x_train,weights_1000[-1])\n",
    "\n",
    "# Outputs error and r2\n",
    "print (\"1000_Error:\", y_train - y_pred1000)\n",
    "print (\"1000_R2:\", r2_score(y_train, y_pred1000))"
   ]
  },
  {
   "cell_type": "markdown",
   "metadata": {},
   "source": [
    "[] 10,000 []"
   ]
  },
  {
   "cell_type": "code",
   "execution_count": 218,
   "metadata": {},
   "outputs": [
    {
     "data": {
      "image/png": "[encoded data removed]",
      "text/plain": [
       "<Figure size 1300x700 with 1 Axes>"
      ]
     },
     "metadata": {},
     "output_type": "display_data"
    }
   ],
   "source": [
    "cost_10000, weights_10000 = grad_descent(x_train, y_train, 10000, 0.01)\n",
    "\n",
    "plot_costs(cost_10000)"
   ]
  },
  {
   "cell_type": "code",
   "execution_count": 219,
   "metadata": {},
   "outputs": [
    {
     "name": "stdout",
     "output_type": "stream",
     "text": [
      "10000_Error: 10    -0.361739\n",
      "19     0.247942\n",
      "56     0.460650\n",
      "76    -0.649499\n",
      "151   -0.412885\n",
      "         ...   \n",
      "107    0.183263\n",
      "15     0.113212\n",
      "93     0.049520\n",
      "180    0.048537\n",
      "103   -0.518237\n",
      "Name: Sales, Length: 170, dtype: float64\n",
      "10000_R2: 0.8936793584593189\n"
     ]
    }
   ],
   "source": [
    "y_pred10000 = predict(x_train,weights_10000[-1])\n",
    "\n",
    "# Outputs error and r2\n",
    "print (\"10000_Error:\", y_train - y_pred10000)\n",
    "print (\"10000_R2:\", r2_score(y_train, y_pred10000))"
   ]
  },
  {
   "cell_type": "markdown",
   "metadata": {},
   "source": [
    "[] 25,000 []"
   ]
  },
  {
   "cell_type": "code",
   "execution_count": 235,
   "metadata": {},
   "outputs": [
    {
     "data": {
      "image/png": "[encoded data removed]",
      "text/plain": [
       "<Figure size 1300x700 with 1 Axes>"
      ]
     },
     "metadata": {},
     "output_type": "display_data"
    }
   ],
   "source": [
    "cost_25000, weights_25000 = grad_descent(x_train, y_train, 25000, 0.01)\n",
    "\n",
    "plot_costs(cost_25000)"
   ]
  },
  {
   "cell_type": "code",
   "execution_count": 236,
   "metadata": {},
   "outputs": [
    {
     "name": "stdout",
     "output_type": "stream",
     "text": [
      "25000_Error: 10    -0.361739\n",
      "19     0.247942\n",
      "56     0.460650\n",
      "76    -0.649499\n",
      "151   -0.412885\n",
      "         ...   \n",
      "107    0.183263\n",
      "15     0.113212\n",
      "93     0.049520\n",
      "180    0.048537\n",
      "103   -0.518237\n",
      "Name: Sales, Length: 170, dtype: float64\n",
      "25000_R2: 0.8936793584593189\n"
     ]
    }
   ],
   "source": [
    "y_pred25000 = predict(x_train,weights_25000[-1])\n",
    "\n",
    "# Outputs error and r2\n",
    "print (\"25000_Error:\", y_train - y_pred25000)\n",
    "print (\"25000_R2:\", r2_score(y_train, y_pred25000))"
   ]
  },
  {
   "cell_type": "markdown",
   "metadata": {},
   "source": [
    "- In the plots, as the number of iterations increases, the cost gets closer and closer to 0. \n",
    "- The errors also get smaller and smaller as iterations increases\n",
    "- The r2 increases as iterations increases"
   ]
  },
  {
   "cell_type": "markdown",
   "metadata": {},
   "source": [
    "**4.) Once you determine the optimal number of iterations, check the effect on the cost and\n",
    "error as you change the learning rate. The common learning rates in machine learning\n",
    "include 0.1, 0.01, 0.001, 0.0001, 0.2 but you have the option to include others. Visualize\n",
    "the cost function (vs the optimal number of iterations) of each learning rate in ONLY ONE\n",
    "PLOT. Provide your analysis.**"
   ]
  },
  {
   "cell_type": "code",
   "execution_count": 221,
   "metadata": {},
   "outputs": [],
   "source": [
    "# Get costs for each learning rate\n",
    "cost_lr1, weights_lr1 = grad_descent(x_train, y_train, 1000, 0.1)\n",
    "cost_lr01, weights_lr01 = grad_descent(x_train, y_train, 1000, 0.01)\n",
    "cost_lr001, weights_lr001 = grad_descent(x_train, y_train, 1000, 0.001)\n",
    "cost_lr0001, weights_lr0001 = grad_descent(x_train, y_train, 1000, 0.0001)\n",
    "cost_lr2, weights_lr2 = grad_descent(x_train, y_train, 1000, 0.2)\n"
   ]
  },
  {
   "cell_type": "code",
   "execution_count": 237,
   "metadata": {},
   "outputs": [
    {
     "name": "stdout",
     "output_type": "stream",
     "text": [
      "Learning Rate: 0.1 | Final Cost: 0.051079554729786925 | Train MSE: 0.10215910945957385 | Test MSE: 0.10484566169031664 | Train R²: 0.8936793584593189 | Test R²: 0.9110275702091714\n",
      "Learning Rate: 0.01 | Final Cost: 0.05107982265387869 | Train MSE: 0.10215963908263909 | Test MSE: 0.10489949437081622 | Train R²: 0.8936788072616394 | Test R²: 0.9109818875904632\n",
      "Learning Rate: 0.001 | Final Cost: 0.12568908777569746 | Train MSE: 0.25110599905081754 | Test MSE: 0.3595679153895644 | Train R²: 0.7386649995773371 | Test R²: 0.6948692908102718\n",
      "Learning Rate: 0.0001 | Final Cost: 0.4470277044791265 | Train MSE: 0.8939062385528702 | Test MSE: 1.2401195278010335 | Train R²: 0.06967978418246101 | Test R²: -0.05237017765613006\n",
      "Learning Rate: 0.2 | Final Cost: 0.051079554729786925 | Train MSE: 0.10215910945957385 | Test MSE: 0.10484566169031671 | Train R²: 0.8936793584593189 | Test R²: 0.9110275702091712\n"
     ]
    },
    {
     "data": {
      "image/png": "[encoded data removed]",
      "text/plain": [
       "<Figure size 1300x700 with 1 Axes>"
      ]
     },
     "metadata": {},
     "output_type": "display_data"
    }
   ],
   "source": [
    "# Gradient descent function with learning rate analysis\n",
    "def grad_descent_lr(x_train, y_train, x_test, y_test, w_init, learning_rates, iterations):\n",
    "    output = []\n",
    "    for lr in learning_rates:\n",
    "        weight_lr = w_init.copy()\n",
    "        costs = []\n",
    "        # Gradient Descent for all iterations in one\n",
    "        for i in range(iterations):\n",
    "            pred_lr = predict(x_train, weight_lr)\n",
    "            gradients = compute_gradient(pred_lr, y_train, x_train)\n",
    "            weight_lr = update_weights(weight_lr, gradients, lr)\n",
    "            cost = compute_cost(pred_lr, y_train)\n",
    "            costs.append(cost)\n",
    "        \n",
    "        # For predictions\n",
    "        y_pred_training = predict(x_train, weight_lr)\n",
    "        y_pred_testing = predict(x_test, weight_lr)\n",
    "        mse_train = mean_squared_error(y_train, y_pred_training)\n",
    "        mse_test = mean_squared_error(y_test, y_pred_testing)\n",
    "        r2_train = r2_score(y_train, y_pred_training)\n",
    "        r2_test = r2_score(y_test, y_pred_testing)\n",
    "        final_cost = costs[-1]\n",
    "        \n",
    "        output.append({\n",
    "            'learning_rate': lr,\n",
    "            'costs': costs,\n",
    "            'final_cost': final_cost,\n",
    "            'train_mse': mse_train,\n",
    "            'test_mse': mse_test,\n",
    "            'train_r2': r2_train,\n",
    "            'test_r2': r2_test,\n",
    "        })\n",
    "        print(f\"Learning Rate: {lr} | Final Cost: {final_cost} | Train MSE: {mse_train} | Test MSE: {mse_test} | Train R²: {r2_train} | Test R²: {r2_test}\")\n",
    "    return output\n",
    "\n",
    "wlr = initialize_weights()\n",
    "lr_box = [0.1, 0.01, 0.001, 0.0001, 0.2]\n",
    "opt_iterations = 1000\n",
    "\n",
    "output_lr = grad_descent_lr(x_train, y_train, x_test, y_test, wlr, lr_box, opt_iterations)\n",
    "\n",
    "\n",
    "# Plot the learning rates\n",
    "plt.figure(figsize=(13, 7))\n",
    "for result in output_lr:\n",
    "    plt.plot(range(1, len(result['costs']) + 1), result['costs'], label=f\"LR: {result['learning_rate']} (Final Cost: {result['final_cost']:.4f})\")\n",
    "plt.xlabel(\"Iterations\")\n",
    "plt.ylabel(\"Cost\")\n",
    "plt.title(f\"Cost vs Iterations for Different Learning Rates (up to {opt_iterations} Iterations)\")\n",
    "plt.legend()\n",
    "\n",
    "# Show plot\n",
    "plt.show()"
   ]
  },
  {
   "cell_type": "markdown",
   "metadata": {},
   "source": [
    "**5.) Is there a relationship on the learning rate and the number of iterations?**"
   ]
  },
  {
   "cell_type": "markdown",
   "metadata": {},
   "source": [
    "Yes there is a relationship. \n",
    "- If the learning rate of the data is too small, there will be a need for larger number of iterations which will take up much time and resources. \n",
    "- If the learning rate of the data is too large, and the iterations is too small, the gradient descent function won't be able to give an optimal model as it would take large steps skipping over the minimum/optimal value.\n",
    "\n",
    "The relationship between learning rate and number of iterations is inverse."
   ]
  },
  {
   "cell_type": "markdown",
   "metadata": {},
   "source": [
    "**6.) CHECK CODE OLS RESULTS**\n"
   ]
  },
  {
   "cell_type": "markdown",
   "metadata": {},
   "source": [
    "Libraries to import"
   ]
  },
  {
   "cell_type": "code",
   "execution_count": 244,
   "metadata": {},
   "outputs": [],
   "source": [
    "from sklearn.linear_model import LinearRegression\n",
    "from sklearn.metrics import r2_score"
   ]
  },
  {
   "cell_type": "markdown",
   "metadata": {},
   "source": [
    "Checking of code"
   ]
  },
  {
   "cell_type": "code",
   "execution_count": 245,
   "metadata": {},
   "outputs": [
    {
     "data": {
      "text/html": [
       "<style>#sk-container-id-1 {\n",
       "  /* Definition of color scheme common for light and dark mode */\n",
       "  --sklearn-color-text: black;\n",
       "  --sklearn-color-line: gray;\n",
       "  /* Definition of color scheme for unfitted estimators */\n",
       "  --sklearn-color-unfitted-level-0: #fff5e6;\n",
       "  --sklearn-color-unfitted-level-1: #f6e4d2;\n",
       "  --sklearn-color-unfitted-level-2: #ffe0b3;\n",
       "  --sklearn-color-unfitted-level-3: chocolate;\n",
       "  /* Definition of color scheme for fitted estimators */\n",
       "  --sklearn-color-fitted-level-0: #f0f8ff;\n",
       "  --sklearn-color-fitted-level-1: #d4ebff;\n",
       "  --sklearn-color-fitted-level-2: #b3dbfd;\n",
       "  --sklearn-color-fitted-level-3: cornflowerblue;\n",
       "\n",
       "  /* Specific color for light theme */\n",
       "  --sklearn-color-text-on-default-background: var(--sg-text-color, var(--theme-code-foreground, var(--jp-content-font-color1, black)));\n",
       "  --sklearn-color-background: var(--sg-background-color, var(--theme-background, var(--jp-layout-color0, white)));\n",
       "  --sklearn-color-border-box: var(--sg-text-color, var(--theme-code-foreground, var(--jp-content-font-color1, black)));\n",
       "  --sklearn-color-icon: #696969;\n",
       "\n",
       "  @media (prefers-color-scheme: dark) {\n",
       "    /* Redefinition of color scheme for dark theme */\n",
       "    --sklearn-color-text-on-default-background: var(--sg-text-color, var(--theme-code-foreground, var(--jp-content-font-color1, white)));\n",
       "    --sklearn-color-background: var(--sg-background-color, var(--theme-background, var(--jp-layout-color0, #111)));\n",
       "    --sklearn-color-border-box: var(--sg-text-color, var(--theme-code-foreground, var(--jp-content-font-color1, white)));\n",
       "    --sklearn-color-icon: #878787;\n",
       "  }\n",
       "}\n",
       "\n",
       "#sk-container-id-1 {\n",
       "  color: var(--sklearn-color-text);\n",
       "}\n",
       "\n",
       "#sk-container-id-1 pre {\n",
       "  padding: 0;\n",
       "}\n",
       "\n",
       "#sk-container-id-1 input.sk-hidden--visually {\n",
       "  border: 0;\n",
       "  clip: rect(1px 1px 1px 1px);\n",
       "  clip: rect(1px, 1px, 1px, 1px);\n",
       "  height: 1px;\n",
       "  margin: -1px;\n",
       "  overflow: hidden;\n",
       "  padding: 0;\n",
       "  position: absolute;\n",
       "  width: 1px;\n",
       "}\n",
       "\n",
       "#sk-container-id-1 div.sk-dashed-wrapped {\n",
       "  border: 1px dashed var(--sklearn-color-line);\n",
       "  margin: 0 0.4em 0.5em 0.4em;\n",
       "  box-sizing: border-box;\n",
       "  padding-bottom: 0.4em;\n",
       "  background-color: var(--sklearn-color-background);\n",
       "}\n",
       "\n",
       "#sk-container-id-1 div.sk-container {\n",
       "  /* jupyter's `normalize.less` sets `[hidden] { display: none; }`\n",
       "     but bootstrap.min.css set `[hidden] { display: none !important; }`\n",
       "     so we also need the `!important` here to be able to override the\n",
       "     default hidden behavior on the sphinx rendered scikit-learn.org.\n",
       "     See: https://github.com/scikit-learn/scikit-learn/issues/21755 */\n",
       "  display: inline-block !important;\n",
       "  position: relative;\n",
       "}\n",
       "\n",
       "#sk-container-id-1 div.sk-text-repr-fallback {\n",
       "  display: none;\n",
       "}\n",
       "\n",
       "div.sk-parallel-item,\n",
       "div.sk-serial,\n",
       "div.sk-item {\n",
       "  /* draw centered vertical line to link estimators */\n",
       "  background-image: linear-gradient(var(--sklearn-color-text-on-default-background), var(--sklearn-color-text-on-default-background));\n",
       "  background-size: 2px 100%;\n",
       "  background-repeat: no-repeat;\n",
       "  background-position: center center;\n",
       "}\n",
       "\n",
       "/* Parallel-specific style estimator block */\n",
       "\n",
       "#sk-container-id-1 div.sk-parallel-item::after {\n",
       "  content: \"\";\n",
       "  width: 100%;\n",
       "  border-bottom: 2px solid var(--sklearn-color-text-on-default-background);\n",
       "  flex-grow: 1;\n",
       "}\n",
       "\n",
       "#sk-container-id-1 div.sk-parallel {\n",
       "  display: flex;\n",
       "  align-items: stretch;\n",
       "  justify-content: center;\n",
       "  background-color: var(--sklearn-color-background);\n",
       "  position: relative;\n",
       "}\n",
       "\n",
       "#sk-container-id-1 div.sk-parallel-item {\n",
       "  display: flex;\n",
       "  flex-direction: column;\n",
       "}\n",
       "\n",
       "#sk-container-id-1 div.sk-parallel-item:first-child::after {\n",
       "  align-self: flex-end;\n",
       "  width: 50%;\n",
       "}\n",
       "\n",
       "#sk-container-id-1 div.sk-parallel-item:last-child::after {\n",
       "  align-self: flex-start;\n",
       "  width: 50%;\n",
       "}\n",
       "\n",
       "#sk-container-id-1 div.sk-parallel-item:only-child::after {\n",
       "  width: 0;\n",
       "}\n",
       "\n",
       "/* Serial-specific style estimator block */\n",
       "\n",
       "#sk-container-id-1 div.sk-serial {\n",
       "  display: flex;\n",
       "  flex-direction: column;\n",
       "  align-items: center;\n",
       "  background-color: var(--sklearn-color-background);\n",
       "  padding-right: 1em;\n",
       "  padding-left: 1em;\n",
       "}\n",
       "\n",
       "\n",
       "/* Toggleable style: style used for estimator/Pipeline/ColumnTransformer box that is\n",
       "clickable and can be expanded/collapsed.\n",
       "- Pipeline and ColumnTransformer use this feature and define the default style\n",
       "- Estimators will overwrite some part of the style using the `sk-estimator` class\n",
       "*/\n",
       "\n",
       "/* Pipeline and ColumnTransformer style (default) */\n",
       "\n",
       "#sk-container-id-1 div.sk-toggleable {\n",
       "  /* Default theme specific background. It is overwritten whether we have a\n",
       "  specific estimator or a Pipeline/ColumnTransformer */\n",
       "  background-color: var(--sklearn-color-background);\n",
       "}\n",
       "\n",
       "/* Toggleable label */\n",
       "#sk-container-id-1 label.sk-toggleable__label {\n",
       "  cursor: pointer;\n",
       "  display: block;\n",
       "  width: 100%;\n",
       "  margin-bottom: 0;\n",
       "  padding: 0.5em;\n",
       "  box-sizing: border-box;\n",
       "  text-align: center;\n",
       "}\n",
       "\n",
       "#sk-container-id-1 label.sk-toggleable__label-arrow:before {\n",
       "  /* Arrow on the left of the label */\n",
       "  content: \"▸\";\n",
       "  float: left;\n",
       "  margin-right: 0.25em;\n",
       "  color: var(--sklearn-color-icon);\n",
       "}\n",
       "\n",
       "#sk-container-id-1 label.sk-toggleable__label-arrow:hover:before {\n",
       "  color: var(--sklearn-color-text);\n",
       "}\n",
       "\n",
       "/* Toggleable content - dropdown */\n",
       "\n",
       "#sk-container-id-1 div.sk-toggleable__content {\n",
       "  max-height: 0;\n",
       "  max-width: 0;\n",
       "  overflow: hidden;\n",
       "  text-align: left;\n",
       "  /* unfitted */\n",
       "  background-color: var(--sklearn-color-unfitted-level-0);\n",
       "}\n",
       "\n",
       "#sk-container-id-1 div.sk-toggleable__content.fitted {\n",
       "  /* fitted */\n",
       "  background-color: var(--sklearn-color-fitted-level-0);\n",
       "}\n",
       "\n",
       "#sk-container-id-1 div.sk-toggleable__content pre {\n",
       "  margin: 0.2em;\n",
       "  border-radius: 0.25em;\n",
       "  color: var(--sklearn-color-text);\n",
       "  /* unfitted */\n",
       "  background-color: var(--sklearn-color-unfitted-level-0);\n",
       "}\n",
       "\n",
       "#sk-container-id-1 div.sk-toggleable__content.fitted pre {\n",
       "  /* unfitted */\n",
       "  background-color: var(--sklearn-color-fitted-level-0);\n",
       "}\n",
       "\n",
       "#sk-container-id-1 input.sk-toggleable__control:checked~div.sk-toggleable__content {\n",
       "  /* Expand drop-down */\n",
       "  max-height: 200px;\n",
       "  max-width: 100%;\n",
       "  overflow: auto;\n",
       "}\n",
       "\n",
       "#sk-container-id-1 input.sk-toggleable__control:checked~label.sk-toggleable__label-arrow:before {\n",
       "  content: \"▾\";\n",
       "}\n",
       "\n",
       "/* Pipeline/ColumnTransformer-specific style */\n",
       "\n",
       "#sk-container-id-1 div.sk-label input.sk-toggleable__control:checked~label.sk-toggleable__label {\n",
       "  color: var(--sklearn-color-text);\n",
       "  background-color: var(--sklearn-color-unfitted-level-2);\n",
       "}\n",
       "\n",
       "#sk-container-id-1 div.sk-label.fitted input.sk-toggleable__control:checked~label.sk-toggleable__label {\n",
       "  background-color: var(--sklearn-color-fitted-level-2);\n",
       "}\n",
       "\n",
       "/* Estimator-specific style */\n",
       "\n",
       "/* Colorize estimator box */\n",
       "#sk-container-id-1 div.sk-estimator input.sk-toggleable__control:checked~label.sk-toggleable__label {\n",
       "  /* unfitted */\n",
       "  background-color: var(--sklearn-color-unfitted-level-2);\n",
       "}\n",
       "\n",
       "#sk-container-id-1 div.sk-estimator.fitted input.sk-toggleable__control:checked~label.sk-toggleable__label {\n",
       "  /* fitted */\n",
       "  background-color: var(--sklearn-color-fitted-level-2);\n",
       "}\n",
       "\n",
       "#sk-container-id-1 div.sk-label label.sk-toggleable__label,\n",
       "#sk-container-id-1 div.sk-label label {\n",
       "  /* The background is the default theme color */\n",
       "  color: var(--sklearn-color-text-on-default-background);\n",
       "}\n",
       "\n",
       "/* On hover, darken the color of the background */\n",
       "#sk-container-id-1 div.sk-label:hover label.sk-toggleable__label {\n",
       "  color: var(--sklearn-color-text);\n",
       "  background-color: var(--sklearn-color-unfitted-level-2);\n",
       "}\n",
       "\n",
       "/* Label box, darken color on hover, fitted */\n",
       "#sk-container-id-1 div.sk-label.fitted:hover label.sk-toggleable__label.fitted {\n",
       "  color: var(--sklearn-color-text);\n",
       "  background-color: var(--sklearn-color-fitted-level-2);\n",
       "}\n",
       "\n",
       "/* Estimator label */\n",
       "\n",
       "#sk-container-id-1 div.sk-label label {\n",
       "  font-family: monospace;\n",
       "  font-weight: bold;\n",
       "  display: inline-block;\n",
       "  line-height: 1.2em;\n",
       "}\n",
       "\n",
       "#sk-container-id-1 div.sk-label-container {\n",
       "  text-align: center;\n",
       "}\n",
       "\n",
       "/* Estimator-specific */\n",
       "#sk-container-id-1 div.sk-estimator {\n",
       "  font-family: monospace;\n",
       "  border: 1px dotted var(--sklearn-color-border-box);\n",
       "  border-radius: 0.25em;\n",
       "  box-sizing: border-box;\n",
       "  margin-bottom: 0.5em;\n",
       "  /* unfitted */\n",
       "  background-color: var(--sklearn-color-unfitted-level-0);\n",
       "}\n",
       "\n",
       "#sk-container-id-1 div.sk-estimator.fitted {\n",
       "  /* fitted */\n",
       "  background-color: var(--sklearn-color-fitted-level-0);\n",
       "}\n",
       "\n",
       "/* on hover */\n",
       "#sk-container-id-1 div.sk-estimator:hover {\n",
       "  /* unfitted */\n",
       "  background-color: var(--sklearn-color-unfitted-level-2);\n",
       "}\n",
       "\n",
       "#sk-container-id-1 div.sk-estimator.fitted:hover {\n",
       "  /* fitted */\n",
       "  background-color: var(--sklearn-color-fitted-level-2);\n",
       "}\n",
       "\n",
       "/* Specification for estimator info (e.g. \"i\" and \"?\") */\n",
       "\n",
       "/* Common style for \"i\" and \"?\" */\n",
       "\n",
       ".sk-estimator-doc-link,\n",
       "a:link.sk-estimator-doc-link,\n",
       "a:visited.sk-estimator-doc-link {\n",
       "  float: right;\n",
       "  font-size: smaller;\n",
       "  line-height: 1em;\n",
       "  font-family: monospace;\n",
       "  background-color: var(--sklearn-color-background);\n",
       "  border-radius: 1em;\n",
       "  height: 1em;\n",
       "  width: 1em;\n",
       "  text-decoration: none !important;\n",
       "  margin-left: 1ex;\n",
       "  /* unfitted */\n",
       "  border: var(--sklearn-color-unfitted-level-1) 1pt solid;\n",
       "  color: var(--sklearn-color-unfitted-level-1);\n",
       "}\n",
       "\n",
       ".sk-estimator-doc-link.fitted,\n",
       "a:link.sk-estimator-doc-link.fitted,\n",
       "a:visited.sk-estimator-doc-link.fitted {\n",
       "  /* fitted */\n",
       "  border: var(--sklearn-color-fitted-level-1) 1pt solid;\n",
       "  color: var(--sklearn-color-fitted-level-1);\n",
       "}\n",
       "\n",
       "/* On hover */\n",
       "div.sk-estimator:hover .sk-estimator-doc-link:hover,\n",
       ".sk-estimator-doc-link:hover,\n",
       "div.sk-label-container:hover .sk-estimator-doc-link:hover,\n",
       ".sk-estimator-doc-link:hover {\n",
       "  /* unfitted */\n",
       "  background-color: var(--sklearn-color-unfitted-level-3);\n",
       "  color: var(--sklearn-color-background);\n",
       "  text-decoration: none;\n",
       "}\n",
       "\n",
       "div.sk-estimator.fitted:hover .sk-estimator-doc-link.fitted:hover,\n",
       ".sk-estimator-doc-link.fitted:hover,\n",
       "div.sk-label-container:hover .sk-estimator-doc-link.fitted:hover,\n",
       ".sk-estimator-doc-link.fitted:hover {\n",
       "  /* fitted */\n",
       "  background-color: var(--sklearn-color-fitted-level-3);\n",
       "  color: var(--sklearn-color-background);\n",
       "  text-decoration: none;\n",
       "}\n",
       "\n",
       "/* Span, style for the box shown on hovering the info icon */\n",
       ".sk-estimator-doc-link span {\n",
       "  display: none;\n",
       "  z-index: 9999;\n",
       "  position: relative;\n",
       "  font-weight: normal;\n",
       "  right: .2ex;\n",
       "  padding: .5ex;\n",
       "  margin: .5ex;\n",
       "  width: min-content;\n",
       "  min-width: 20ex;\n",
       "  max-width: 50ex;\n",
       "  color: var(--sklearn-color-text);\n",
       "  box-shadow: 2pt 2pt 4pt #999;\n",
       "  /* unfitted */\n",
       "  background: var(--sklearn-color-unfitted-level-0);\n",
       "  border: .5pt solid var(--sklearn-color-unfitted-level-3);\n",
       "}\n",
       "\n",
       ".sk-estimator-doc-link.fitted span {\n",
       "  /* fitted */\n",
       "  background: var(--sklearn-color-fitted-level-0);\n",
       "  border: var(--sklearn-color-fitted-level-3);\n",
       "}\n",
       "\n",
       ".sk-estimator-doc-link:hover span {\n",
       "  display: block;\n",
       "}\n",
       "\n",
       "/* \"?\"-specific style due to the `<a>` HTML tag */\n",
       "\n",
       "#sk-container-id-1 a.estimator_doc_link {\n",
       "  float: right;\n",
       "  font-size: 1rem;\n",
       "  line-height: 1em;\n",
       "  font-family: monospace;\n",
       "  background-color: var(--sklearn-color-background);\n",
       "  border-radius: 1rem;\n",
       "  height: 1rem;\n",
       "  width: 1rem;\n",
       "  text-decoration: none;\n",
       "  /* unfitted */\n",
       "  color: var(--sklearn-color-unfitted-level-1);\n",
       "  border: var(--sklearn-color-unfitted-level-1) 1pt solid;\n",
       "}\n",
       "\n",
       "#sk-container-id-1 a.estimator_doc_link.fitted {\n",
       "  /* fitted */\n",
       "  border: var(--sklearn-color-fitted-level-1) 1pt solid;\n",
       "  color: var(--sklearn-color-fitted-level-1);\n",
       "}\n",
       "\n",
       "/* On hover */\n",
       "#sk-container-id-1 a.estimator_doc_link:hover {\n",
       "  /* unfitted */\n",
       "  background-color: var(--sklearn-color-unfitted-level-3);\n",
       "  color: var(--sklearn-color-background);\n",
       "  text-decoration: none;\n",
       "}\n",
       "\n",
       "#sk-container-id-1 a.estimator_doc_link.fitted:hover {\n",
       "  /* fitted */\n",
       "  background-color: var(--sklearn-color-fitted-level-3);\n",
       "}\n",
       "</style><div id=\"sk-container-id-1\" class=\"sk-top-container\"><div class=\"sk-text-repr-fallback\"><pre>LinearRegression()</pre><b>In a Jupyter environment, please rerun this cell to show the HTML representation or trust the notebook. <br />On GitHub, the HTML representation is unable to render, please try loading this page with nbviewer.org.</b></div><div class=\"sk-container\" hidden><div class=\"sk-item\"><div class=\"sk-estimator fitted sk-toggleable\"><input class=\"sk-toggleable__control sk-hidden--visually\" id=\"sk-estimator-id-1\" type=\"checkbox\" checked><label for=\"sk-estimator-id-1\" class=\"sk-toggleable__label fitted sk-toggleable__label-arrow fitted\">&nbsp;&nbsp;LinearRegression<a class=\"sk-estimator-doc-link fitted\" rel=\"noreferrer\" target=\"_blank\" href=\"https://scikit-learn.org/1.5/modules/generated/sklearn.linear_model.LinearRegression.html\">?<span>Documentation for LinearRegression</span></a><span class=\"sk-estimator-doc-link fitted\">i<span>Fitted</span></span></label><div class=\"sk-toggleable__content fitted\"><pre>LinearRegression()</pre></div> </div></div></div></div>"
      ],
      "text/plain": [
       "LinearRegression()"
      ]
     },
     "execution_count": 245,
     "metadata": {},
     "output_type": "execute_result"
    }
   ],
   "source": [
    "# Standardized the data and fit the model\n",
    "ols_model = LinearRegression()\n",
    "ols_model.fit(x_train, y_train)"
   ]
  },
  {
   "cell_type": "code",
   "execution_count": 246,
   "metadata": {},
   "outputs": [],
   "source": [
    "# predict both testing and training data\n",
    "ols_predict_training = ols_model.predict(x_train)\n",
    "ols_predict_testing = ols_model.predict(x_test)"
   ]
  },
  {
   "cell_type": "code",
   "execution_count": 247,
   "metadata": {},
   "outputs": [],
   "source": [
    "\n",
    "# Calculate r2\n",
    "r2_ols_train = r2_score(y_train, ols_predict_training)\n",
    "r2_ols_test = r2_score(y_test, ols_predict_testing)"
   ]
  },
  {
   "cell_type": "code",
   "execution_count": 248,
   "metadata": {},
   "outputs": [],
   "source": [
    "# OLS weights\n",
    "weight_ols = np.insert(ols_model.coef_, 0, ols_model.intercept_)"
   ]
  },
  {
   "cell_type": "code",
   "execution_count": 251,
   "metadata": {},
   "outputs": [
    {
     "name": "stdout",
     "output_type": "stream",
     "text": [
      "Gradient Descent Optimal Weights: [0.00584465 0.73181605 0.52526293 0.0169989 ]\n",
      "OLS Weights: [4.35589486e-04 0.00000000e+00 7.37383146e-01 5.36307180e-01\n",
      " 3.14254020e-03]\n",
      "\n",
      "\n",
      "Gradient Descent R2 score (train): 0.8934279216132959\n",
      "OLS R2 score (train): 0.8936793584593188\n",
      "\n",
      "\n",
      "Gradient Descent R2 score (test): 0.922655961316777\n",
      "OLS R2 score (test): 0.9110275702091714\n"
     ]
    }
   ],
   "source": [
    "# Comparing Outputs\n",
    "# Weights\n",
    "print(\"Gradient Descent Optimal Weights:\", optimal_weights[-1])\n",
    "print(\"OLS Weights:\", weight_ols)\n",
    "print(\"\\n\")\n",
    "# R2\n",
    "# (train)\n",
    "print(\"Gradient Descent R2 score (train):\", r2_train)\n",
    "print(\"OLS R2 score (train):\", r2_ols_train)\n",
    "print(\"\\n\")\n",
    "# (test)\n",
    "print(\"Gradient Descent R2 score (test):\", r2_test)\n",
    "print(\"OLS R2 score (test):\", r2_ols_test)"
   ]
  },
  {
   "cell_type": "markdown",
   "metadata": {},
   "source": [
    "The results of r2 in gradient descent is a little bit higher that in r2 in OLS. We can say that Gradient descent performed than OLS."
   ]
  }
 ],
 "metadata": {
  "kernelspec": {
   "display_name": "Python 3 (ipykernel)",
   "language": "python",
   "name": "python3"
  },
  "language_info": {
   "codemirror_mode": {
    "name": "ipython",
    "version": 3
   },
   "file_extension": ".py",
   "mimetype": "text/x-python",
   "name": "python",
   "nbconvert_exporter": "python",
   "pygments_lexer": "ipython3",
   "version": "3.12.4"
  }
 },
 "nbformat": 4,
 "nbformat_minor": 4
}
