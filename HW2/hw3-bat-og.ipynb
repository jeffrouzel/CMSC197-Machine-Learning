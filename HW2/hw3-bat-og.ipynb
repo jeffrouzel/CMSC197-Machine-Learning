{
 "cells": [
  {
   "cell_type": "markdown",
   "metadata": {},
   "source": [
    "## Importing the Libraries"
   ]
  },
  {
   "cell_type": "code",
   "execution_count": 35,
   "metadata": {},
   "outputs": [],
   "source": [
    "# For numerical operations, data manipulation and analysis\n",
    "import numpy as np              \n",
    "import pandas as pd\n",
    "\n",
    "# For plotting the data             \n",
    "import matplotlib.pyplot as plt \n",
    "\n",
    "# For splitting data into training and testing sets\n",
    "from sklearn.model_selection import train_test_split\n",
    "\n",
    "# For calculating MSE and R-squared values\n",
    "from sklearn.metrics import r2_score ,mean_squared_error\n",
    "\n",
    "import random\n"
   ]
  },
  {
   "cell_type": "markdown",
   "metadata": {},
   "source": [
    "## [ I ] Load and Explore the Dataset"
   ]
  },
  {
   "cell_type": "code",
   "execution_count": 36,
   "metadata": {},
   "outputs": [
    {
     "name": "stdout",
     "output_type": "stream",
     "text": [
      "Size of the data: (200, 4)\n"
     ]
    },
    {
     "data": {
      "text/html": [
       "<div>\n",
       "<style scoped>\n",
       "    .dataframe tbody tr th:only-of-type {\n",
       "        vertical-align: middle;\n",
       "    }\n",
       "\n",
       "    .dataframe tbody tr th {\n",
       "        vertical-align: top;\n",
       "    }\n",
       "\n",
       "    .dataframe thead th {\n",
       "        text-align: right;\n",
       "    }\n",
       "</style>\n",
       "<table border=\"1\" class=\"dataframe\">\n",
       "  <thead>\n",
       "    <tr style=\"text-align: right;\">\n",
       "      <th></th>\n",
       "      <th>TV</th>\n",
       "      <th>Radio</th>\n",
       "      <th>Newspaper</th>\n",
       "      <th>Sales</th>\n",
       "    </tr>\n",
       "  </thead>\n",
       "  <tbody>\n",
       "    <tr>\n",
       "      <th>1</th>\n",
       "      <td>230.1</td>\n",
       "      <td>37.8</td>\n",
       "      <td>69.2</td>\n",
       "      <td>22.1</td>\n",
       "    </tr>\n",
       "    <tr>\n",
       "      <th>2</th>\n",
       "      <td>44.5</td>\n",
       "      <td>39.3</td>\n",
       "      <td>45.1</td>\n",
       "      <td>10.4</td>\n",
       "    </tr>\n",
       "    <tr>\n",
       "      <th>3</th>\n",
       "      <td>17.2</td>\n",
       "      <td>45.9</td>\n",
       "      <td>69.3</td>\n",
       "      <td>9.3</td>\n",
       "    </tr>\n",
       "    <tr>\n",
       "      <th>4</th>\n",
       "      <td>151.5</td>\n",
       "      <td>41.3</td>\n",
       "      <td>58.5</td>\n",
       "      <td>18.5</td>\n",
       "    </tr>\n",
       "    <tr>\n",
       "      <th>5</th>\n",
       "      <td>180.8</td>\n",
       "      <td>10.8</td>\n",
       "      <td>58.4</td>\n",
       "      <td>12.9</td>\n",
       "    </tr>\n",
       "  </tbody>\n",
       "</table>\n",
       "</div>"
      ],
      "text/plain": [
       "      TV  Radio  Newspaper  Sales\n",
       "1  230.1   37.8       69.2   22.1\n",
       "2   44.5   39.3       45.1   10.4\n",
       "3   17.2   45.9       69.3    9.3\n",
       "4  151.5   41.3       58.5   18.5\n",
       "5  180.8   10.8       58.4   12.9"
      ]
     },
     "execution_count": 36,
     "metadata": {},
     "output_type": "execute_result"
    }
   ],
   "source": [
    "### Load the data\n",
    "df = pd.read_csv(\"Advertising.csv\", index_col = 0)\n",
    "\n",
    "# For visualization of data\n",
    "print(\"Size of the data:\", df.shape)\n",
    "df.head()"
   ]
  },
  {
   "cell_type": "markdown",
   "metadata": {},
   "source": [
    "## [ II ] Standardized the data set\n",
    " "
   ]
  },
  {
   "cell_type": "code",
   "execution_count": 37,
   "metadata": {},
   "outputs": [
    {
     "data": {
      "text/html": [
       "<div>\n",
       "<style scoped>\n",
       "    .dataframe tbody tr th:only-of-type {\n",
       "        vertical-align: middle;\n",
       "    }\n",
       "\n",
       "    .dataframe tbody tr th {\n",
       "        vertical-align: top;\n",
       "    }\n",
       "\n",
       "    .dataframe thead th {\n",
       "        text-align: right;\n",
       "    }\n",
       "</style>\n",
       "<table border=\"1\" class=\"dataframe\">\n",
       "  <thead>\n",
       "    <tr style=\"text-align: right;\">\n",
       "      <th></th>\n",
       "      <th>TV</th>\n",
       "      <th>Radio</th>\n",
       "      <th>Newspaper</th>\n",
       "      <th>Sales</th>\n",
       "    </tr>\n",
       "  </thead>\n",
       "  <tbody>\n",
       "    <tr>\n",
       "      <th>1</th>\n",
       "      <td>0.967425</td>\n",
       "      <td>0.979066</td>\n",
       "      <td>1.774493</td>\n",
       "      <td>1.548168</td>\n",
       "    </tr>\n",
       "    <tr>\n",
       "      <th>2</th>\n",
       "      <td>-1.194379</td>\n",
       "      <td>1.080097</td>\n",
       "      <td>0.667903</td>\n",
       "      <td>-0.694304</td>\n",
       "    </tr>\n",
       "    <tr>\n",
       "      <th>3</th>\n",
       "      <td>-1.512360</td>\n",
       "      <td>1.524637</td>\n",
       "      <td>1.779084</td>\n",
       "      <td>-0.905135</td>\n",
       "    </tr>\n",
       "    <tr>\n",
       "      <th>4</th>\n",
       "      <td>0.051919</td>\n",
       "      <td>1.214806</td>\n",
       "      <td>1.283185</td>\n",
       "      <td>0.858177</td>\n",
       "    </tr>\n",
       "    <tr>\n",
       "      <th>5</th>\n",
       "      <td>0.393196</td>\n",
       "      <td>-0.839507</td>\n",
       "      <td>1.278593</td>\n",
       "      <td>-0.215143</td>\n",
       "    </tr>\n",
       "  </tbody>\n",
       "</table>\n",
       "</div>"
      ],
      "text/plain": [
       "         TV     Radio  Newspaper     Sales\n",
       "1  0.967425  0.979066   1.774493  1.548168\n",
       "2 -1.194379  1.080097   0.667903 -0.694304\n",
       "3 -1.512360  1.524637   1.779084 -0.905135\n",
       "4  0.051919  1.214806   1.283185  0.858177\n",
       "5  0.393196 -0.839507   1.278593 -0.215143"
      ]
     },
     "execution_count": 37,
     "metadata": {},
     "output_type": "execute_result"
    }
   ],
   "source": [
    "# Standardize each column of the data\n",
    "standardized_data = (df - df.mean()) / df.std()\n",
    "\n",
    "# Check if the data is standardized\n",
    "standardized_data.head()"
   ]
  },
  {
   "cell_type": "markdown",
   "metadata": {},
   "source": [
    "## [ III ] Add bias"
   ]
  },
  {
   "cell_type": "code",
   "execution_count": 38,
   "metadata": {},
   "outputs": [],
   "source": [
    "# Add bias\n",
    "standardized_data.insert(0,'bias', 1)"
   ]
  },
  {
   "cell_type": "code",
   "execution_count": 39,
   "metadata": {},
   "outputs": [
    {
     "data": {
      "text/html": [
       "<div>\n",
       "<style scoped>\n",
       "    .dataframe tbody tr th:only-of-type {\n",
       "        vertical-align: middle;\n",
       "    }\n",
       "\n",
       "    .dataframe tbody tr th {\n",
       "        vertical-align: top;\n",
       "    }\n",
       "\n",
       "    .dataframe thead th {\n",
       "        text-align: right;\n",
       "    }\n",
       "</style>\n",
       "<table border=\"1\" class=\"dataframe\">\n",
       "  <thead>\n",
       "    <tr style=\"text-align: right;\">\n",
       "      <th></th>\n",
       "      <th>bias</th>\n",
       "      <th>TV</th>\n",
       "      <th>Radio</th>\n",
       "      <th>Newspaper</th>\n",
       "      <th>Sales</th>\n",
       "    </tr>\n",
       "  </thead>\n",
       "  <tbody>\n",
       "    <tr>\n",
       "      <th>1</th>\n",
       "      <td>1</td>\n",
       "      <td>0.967425</td>\n",
       "      <td>0.979066</td>\n",
       "      <td>1.774493</td>\n",
       "      <td>1.548168</td>\n",
       "    </tr>\n",
       "    <tr>\n",
       "      <th>2</th>\n",
       "      <td>1</td>\n",
       "      <td>-1.194379</td>\n",
       "      <td>1.080097</td>\n",
       "      <td>0.667903</td>\n",
       "      <td>-0.694304</td>\n",
       "    </tr>\n",
       "    <tr>\n",
       "      <th>3</th>\n",
       "      <td>1</td>\n",
       "      <td>-1.512360</td>\n",
       "      <td>1.524637</td>\n",
       "      <td>1.779084</td>\n",
       "      <td>-0.905135</td>\n",
       "    </tr>\n",
       "    <tr>\n",
       "      <th>4</th>\n",
       "      <td>1</td>\n",
       "      <td>0.051919</td>\n",
       "      <td>1.214806</td>\n",
       "      <td>1.283185</td>\n",
       "      <td>0.858177</td>\n",
       "    </tr>\n",
       "    <tr>\n",
       "      <th>5</th>\n",
       "      <td>1</td>\n",
       "      <td>0.393196</td>\n",
       "      <td>-0.839507</td>\n",
       "      <td>1.278593</td>\n",
       "      <td>-0.215143</td>\n",
       "    </tr>\n",
       "    <tr>\n",
       "      <th>...</th>\n",
       "      <td>...</td>\n",
       "      <td>...</td>\n",
       "      <td>...</td>\n",
       "      <td>...</td>\n",
       "      <td>...</td>\n",
       "    </tr>\n",
       "    <tr>\n",
       "      <th>196</th>\n",
       "      <td>1</td>\n",
       "      <td>-1.267759</td>\n",
       "      <td>-1.317724</td>\n",
       "      <td>-0.769287</td>\n",
       "      <td>-1.230964</td>\n",
       "    </tr>\n",
       "    <tr>\n",
       "      <th>197</th>\n",
       "      <td>1</td>\n",
       "      <td>-0.615491</td>\n",
       "      <td>-1.236899</td>\n",
       "      <td>-1.031011</td>\n",
       "      <td>-0.828469</td>\n",
       "    </tr>\n",
       "    <tr>\n",
       "      <th>198</th>\n",
       "      <td>1</td>\n",
       "      <td>0.348934</td>\n",
       "      <td>-0.940539</td>\n",
       "      <td>-1.109069</td>\n",
       "      <td>-0.234310</td>\n",
       "    </tr>\n",
       "    <tr>\n",
       "      <th>199</th>\n",
       "      <td>1</td>\n",
       "      <td>1.590574</td>\n",
       "      <td>1.261955</td>\n",
       "      <td>1.636743</td>\n",
       "      <td>2.199827</td>\n",
       "    </tr>\n",
       "    <tr>\n",
       "      <th>200</th>\n",
       "      <td>1</td>\n",
       "      <td>0.990720</td>\n",
       "      <td>-0.987687</td>\n",
       "      <td>-1.003461</td>\n",
       "      <td>-0.119311</td>\n",
       "    </tr>\n",
       "  </tbody>\n",
       "</table>\n",
       "<p>200 rows × 5 columns</p>\n",
       "</div>"
      ],
      "text/plain": [
       "     bias        TV     Radio  Newspaper     Sales\n",
       "1       1  0.967425  0.979066   1.774493  1.548168\n",
       "2       1 -1.194379  1.080097   0.667903 -0.694304\n",
       "3       1 -1.512360  1.524637   1.779084 -0.905135\n",
       "4       1  0.051919  1.214806   1.283185  0.858177\n",
       "5       1  0.393196 -0.839507   1.278593 -0.215143\n",
       "..    ...       ...       ...        ...       ...\n",
       "196     1 -1.267759 -1.317724  -0.769287 -1.230964\n",
       "197     1 -0.615491 -1.236899  -1.031011 -0.828469\n",
       "198     1  0.348934 -0.940539  -1.109069 -0.234310\n",
       "199     1  1.590574  1.261955   1.636743  2.199827\n",
       "200     1  0.990720 -0.987687  -1.003461 -0.119311\n",
       "\n",
       "[200 rows x 5 columns]"
      ]
     },
     "execution_count": 39,
     "metadata": {},
     "output_type": "execute_result"
    }
   ],
   "source": [
    "# Check Values\n",
    "standardized_data"
   ]
  },
  {
   "cell_type": "markdown",
   "metadata": {},
   "source": [
    "## [ IV ] Dividing the dataset into training and testing"
   ]
  },
  {
   "cell_type": "markdown",
   "metadata": {},
   "source": [
    "Training: 85%    ,  Testing: 15%"
   ]
  },
  {
   "cell_type": "code",
   "execution_count": 40,
   "metadata": {},
   "outputs": [],
   "source": [
    "x = standardized_data.drop(\"Sales\", axis = 1)\n",
    "y = standardized_data[\"Sales\"]"
   ]
  },
  {
   "cell_type": "code",
   "execution_count": 41,
   "metadata": {},
   "outputs": [],
   "source": [
    "from sklearn.model_selection import train_test_split\n",
    "\n",
    "# Split the data into training and testing sets\n",
    "x_train, x_test, y_train, y_test = train_test_split(x, y, train_size=0.85, test_size=0.15, random_state = 42)"
   ]
  },
  {
   "cell_type": "code",
   "execution_count": 42,
   "metadata": {},
   "outputs": [
    {
     "name": "stdout",
     "output_type": "stream",
     "text": [
      "Predictors:\n",
      "     bias        TV     Radio  Newspaper\n",
      "10      1  0.614501 -1.391814  -0.429504\n",
      "19      1 -0.906682 -0.186168  -0.562662\n",
      "56      1  0.604018  1.760378   1.352060\n",
      "76      1 -1.515854  1.376457   2.702008\n",
      "151     1  1.556796 -0.630708   0.295978\n",
      "..    ...       ...       ...        ...\n",
      "107     1 -1.421508 -0.826036  -0.039213\n",
      "15      1  0.664586  0.649028   0.709228\n",
      "93      1  0.822994  0.689441   1.306143\n",
      "180     1  0.216151 -0.893391  -0.594804\n",
      "103     1  1.550972 -0.886655  -0.420320\n",
      "\n",
      "[170 rows x 4 columns]\n",
      "Sales:\n",
      "10    -0.655971\n",
      "19    -0.521806\n",
      "56     1.854831\n",
      "76    -1.020133\n",
      "151    0.398183\n",
      "         ...   \n",
      "107   -1.307629\n",
      "15     0.954009\n",
      "93     1.030675\n",
      "180   -0.272642\n",
      "103    0.149019\n",
      "Name: Sales, Length: 170, dtype: float64\n"
     ]
    }
   ],
   "source": [
    "# Dataset for training\n",
    "print (\"Predictors:\")\n",
    "print (x_train)\n",
    "print (\"Sales:\")\n",
    "print (y_train)"
   ]
  },
  {
   "cell_type": "markdown",
   "metadata": {},
   "source": [
    "## [ V ] Functions to Use (for fitting the model)"
   ]
  },
  {
   "cell_type": "markdown",
   "metadata": {},
   "source": [
    "Initial weights"
   ]
  },
  {
   "cell_type": "code",
   "execution_count": 43,
   "metadata": {},
   "outputs": [],
   "source": [
    "def initialize_weights():\n",
    "    random.seed(42)\n",
    "    theta_0 = random.uniform(0,1)\n",
    "    theta_1 = random.uniform(0,1)\n",
    "    theta_2 = random.uniform(0,1)\n",
    "    theta_3 = random.uniform(0,1)\n",
    "    \n",
    "    return np.array([theta_0,theta_1,theta_2,theta_3])"
   ]
  },
  {
   "cell_type": "code",
   "execution_count": 44,
   "metadata": {},
   "outputs": [
    {
     "data": {
      "text/plain": [
       "array([0.6394268 , 0.02501076, 0.27502932, 0.22321074])"
      ]
     },
     "execution_count": 44,
     "metadata": {},
     "output_type": "execute_result"
    }
   ],
   "source": [
    "#Checking the function\n",
    "initialize_weights()"
   ]
  },
  {
   "cell_type": "markdown",
   "metadata": {},
   "source": [
    "Vector for predicted values of y"
   ]
  },
  {
   "cell_type": "code",
   "execution_count": 45,
   "metadata": {},
   "outputs": [],
   "source": [
    "def predict(x, weights):\n",
    "    return np.dot(x, weights)"
   ]
  },
  {
   "cell_type": "markdown",
   "metadata": {},
   "source": [
    "Function compute_cost $$ \\frac{1}{2m}\\sum_{i=1}^{m}(h_\\theta(x^{(i)}) - y^{(i)})^2 $$"
   ]
  },
  {
   "cell_type": "code",
   "execution_count": 46,
   "metadata": {},
   "outputs": [],
   "source": [
    "def compute_cost(y_pred, y):\n",
    "    # Variable for error and m\n",
    "    error = (y_pred - y)\n",
    "    m = len(y)\n",
    "    \n",
    "    # Solve for cost\n",
    "    return np.sum(error**2)/(2*m)"
   ]
  },
  {
   "cell_type": "markdown",
   "metadata": {},
   "source": [
    "Function compute_gradient $$ \\alpha\\frac{1}{m}\\sum_{i=1}^{m}((\\hat{y}^{(i)}) - y^{(i)})x_j^{(i)} $$"
   ]
  },
  {
   "cell_type": "code",
   "execution_count": 47,
   "metadata": {},
   "outputs": [],
   "source": [
    "def compute_gradient(y_pred, y, x):\n",
    "    # Variable for error\n",
    "    error = (y_pred - y)\n",
    "    m = len(y)\n",
    "\n",
    "    # Partial derivative\n",
    "    return np.dot(x.T, error) / m"
   ]
  },
  {
   "cell_type": "markdown",
   "metadata": {},
   "source": [
    "Function update_weights $$ \\theta_j := \\theta_j - awx_j^{(i)} $$"
   ]
  },
  {
   "cell_type": "code",
   "execution_count": 48,
   "metadata": {},
   "outputs": [],
   "source": [
    "def update_weights(weights, gradient, lrate):\n",
    "    return weights - (lrate*gradient)"
   ]
  },
  {
   "cell_type": "markdown",
   "metadata": {},
   "source": [
    "Function grad_descent "
   ]
  },
  {
   "cell_type": "code",
   "execution_count": 49,
   "metadata": {},
   "outputs": [],
   "source": [
    "def grad_descent(x, y , iterations, lrate):\n",
    "    # Initialize weights\n",
    "    weights = initialize_weights()\n",
    "\n",
    "    # Cost and weights matrix\n",
    "    costs_matrix = []\n",
    "    weights_matrix = []\n",
    "\n",
    "    for i in range(iterations):\n",
    "        # Predicted sales\n",
    "        y_pred = predict(x, weights)\n",
    "\n",
    "        # Cost\n",
    "        cost = compute_cost(y_pred, y)\n",
    "\n",
    "        # Compute the gradient\n",
    "        gradient = compute_gradient(y_pred, y, x)\n",
    "\n",
    "        # Update the weights\n",
    "        weights = update_weights(weights, gradient, lrate)\n",
    "\n",
    "        # Concatenate to the matrices\n",
    "        costs_matrix.append(cost)\n",
    "        weights_matrix.append(weights)\n",
    "        \n",
    "    return costs_matrix, weights_matrix    "
   ]
  },
  {
   "cell_type": "markdown",
   "metadata": {},
   "source": [
    "Function plot_costs"
   ]
  },
  {
   "cell_type": "code",
   "execution_count": 50,
   "metadata": {},
   "outputs": [],
   "source": [
    "def plot_costs(cost):\n",
    "    costs = pd.DataFrame(cost, columns = ['Costs'])\n",
    "\n",
    "    # Plot dimensions and labels\n",
    "    fig, ax = plt.subplots(figsize=(13, 7))\n",
    "    plt.xlabel('Iterations')\n",
    "    plt.ylabel('Cost')\n",
    "\n",
    "    # Plotting the data\n",
    "    ax.plot(costs.index, costs['Costs'], label='Costs', marker='o', color='red')\n",
    "\n",
    "    # Show plot\n",
    "    plt.show()\n",
    "    "
   ]
  },
  {
   "cell_type": "markdown",
   "metadata": {},
   "source": [
    "## [ VI ]Predicting y using TRAINING data and its costs"
   ]
  },
  {
   "cell_type": "markdown",
   "metadata": {},
   "source": [
    "Train Model"
   ]
  },
  {
   "cell_type": "code",
   "execution_count": 51,
   "metadata": {},
   "outputs": [],
   "source": [
    "costs_train, weights_train = grad_descent(x_train, y_train, 5000, 0.001)"
   ]
  },
  {
   "cell_type": "code",
   "execution_count": 52,
   "metadata": {},
   "outputs": [
    {
     "data": {
      "image/png": "[encoded data removed]",
      "text/plain": [
       "<Figure size 1300x700 with 1 Axes>"
      ]
     },
     "metadata": {},
     "output_type": "display_data"
    }
   ],
   "source": [
    "plot_costs(costs_train)"
   ]
  },
  {
   "cell_type": "code",
   "execution_count": 53,
   "metadata": {},
   "outputs": [
    {
     "data": {
      "text/plain": [
       "[0.051202000057838495,\n",
       " 0.0512018342231698,\n",
       " 0.05120166862623004,\n",
       " 0.05120150326665697,\n",
       " 0.05120133814408903,\n",
       " 0.051201173258165145,\n",
       " 0.05120100860852493,\n",
       " 0.05120084419480847,\n",
       " 0.05120068001665653,\n",
       " 0.051200516073710386]"
      ]
     },
     "execution_count": 53,
     "metadata": {},
     "output_type": "execute_result"
    }
   ],
   "source": [
    "# look at the final costs\n",
    "costs_train[-10:]"
   ]
  },
  {
   "cell_type": "markdown",
   "metadata": {},
   "source": [
    "Predicted sales for training data"
   ]
  },
  {
   "cell_type": "code",
   "execution_count": 54,
   "metadata": {},
   "outputs": [
    {
     "data": {
      "text/plain": [
       "array([-0.28282328, -0.76503163,  1.39551965, -0.33454856,  0.8188765 ,\n",
       "        1.15359475, -0.01329177,  1.30760966, -0.57114883, -1.78726664,\n",
       "       -0.81521405, -0.25168265, -0.75504462, -1.10333965, -0.08799076,\n",
       "       -1.62715062, -0.89474096,  0.0216003 , -0.9743246 , -0.458655  ,\n",
       "        0.25479198, -0.39782656, -0.23171451, -0.61221945, -1.40335436,\n",
       "       -0.76535063, -0.85727192,  1.91143462, -1.20298511, -0.28167711,\n",
       "        0.70892823,  0.2417652 , -0.48636523, -0.59833394,  0.53515806,\n",
       "       -1.34560633,  1.38958861, -1.48869199, -0.7690581 , -0.48919145,\n",
       "       -0.89618802, -1.40363745,  0.17181025,  0.62615864,  0.34431817,\n",
       "        0.42933489,  0.17006727,  1.03609592, -0.00771508,  1.32830176,\n",
       "       -0.26984661, -0.04792313, -0.95172542,  0.56406468, -1.06410615,\n",
       "        0.25463811, -0.0588939 ,  1.73409658, -0.29914502,  1.68623822,\n",
       "       -1.38068411,  0.86806767,  1.79506435,  0.8773305 ,  0.58786547,\n",
       "        0.44576525, -0.29385851, -0.42554315,  0.56085995,  0.09420773,\n",
       "       -0.12563579, -1.18942721,  0.98924968, -0.82428517,  1.03855913,\n",
       "       -0.7204658 , -1.30691969,  0.51502053, -0.05007495,  0.21721528,\n",
       "       -0.5947556 ,  1.25825278,  1.86053293,  0.79967838,  0.71547687,\n",
       "        0.18864509,  0.55982187, -0.93745396,  0.60694292,  1.00295816,\n",
       "        0.44527208, -1.94864133, -1.64464629,  0.2843561 ,  0.28555116,\n",
       "        0.46992902,  0.84592233,  1.74672416,  0.12345679,  1.20777886,\n",
       "        0.62151718,  1.43311613, -0.67515567,  0.26026586, -0.01304728,\n",
       "       -0.79559584,  0.70374564,  0.76864247,  1.1423525 ,  0.9995164 ,\n",
       "       -0.66112619,  0.36400511,  1.26385317, -1.08153067, -0.48118834,\n",
       "       -1.22339101, -0.36738139,  0.16447335, -1.77182766,  0.09074465,\n",
       "        1.10719362, -0.01952561,  0.5727182 , -1.94605609, -0.98885521,\n",
       "        0.75249018,  0.08416452,  0.3022714 ,  1.74875352, -0.68343047,\n",
       "        2.0284916 , -0.36307858, -0.13257569,  1.93437849, -0.16525955,\n",
       "        1.17612119, -1.2951522 , -0.25467474, -1.11180459,  1.48662441,\n",
       "        0.44013456, -0.38232294,  0.12791906, -0.24124729,  0.04026037,\n",
       "       -1.77810828, -1.12822441,  0.32568515, -0.75259295,  0.81607588,\n",
       "       -0.28953237,  1.25634861, -0.78456498, -0.68067848, -0.72784757,\n",
       "        0.12969723,  0.56912232, -0.38200703,  0.33487234,  0.6051145 ,\n",
       "       -1.12712835,  0.19501628,  0.78886401,  0.83806167, -0.62784952,\n",
       "       -1.46899057,  0.84516577,  0.99246552, -0.31534838,  0.66799864])"
      ]
     },
     "execution_count": 54,
     "metadata": {},
     "output_type": "execute_result"
    }
   ],
   "source": [
    "y_pred_training = predict(x_train,weights_train[-1])\n",
    "y_pred_training"
   ]
  },
  {
   "cell_type": "markdown",
   "metadata": {},
   "source": [
    "Cost (train)"
   ]
  },
  {
   "cell_type": "code",
   "execution_count": 55,
   "metadata": {},
   "outputs": [
    {
     "data": {
      "text/plain": [
       "0.051200352365611934"
      ]
     },
     "execution_count": 55,
     "metadata": {},
     "output_type": "execute_result"
    }
   ],
   "source": [
    "compute_cost(y_pred_training,y_train)"
   ]
  },
  {
   "cell_type": "markdown",
   "metadata": {},
   "source": [
    "Check MSE (train)"
   ]
  },
  {
   "cell_type": "code",
   "execution_count": 56,
   "metadata": {},
   "outputs": [
    {
     "data": {
      "text/plain": [
       "0.10240070473122387"
      ]
     },
     "execution_count": 56,
     "metadata": {},
     "output_type": "execute_result"
    }
   ],
   "source": [
    "mean_squared_error(y_train, y_pred_training)"
   ]
  },
  {
   "cell_type": "markdown",
   "metadata": {},
   "source": [
    "## [ VII ]Predict y using TESTING data and its cost"
   ]
  },
  {
   "cell_type": "markdown",
   "metadata": {},
   "source": [
    "Test Model"
   ]
  },
  {
   "cell_type": "code",
   "execution_count": 57,
   "metadata": {},
   "outputs": [],
   "source": [
    "costs_test, weights_test = grad_descent(x_test, y_test, 5000, 0.001)"
   ]
  },
  {
   "cell_type": "code",
   "execution_count": 58,
   "metadata": {},
   "outputs": [
    {
     "data": {
      "text/plain": [
       "array([ 0.43147557,  1.30780554,  1.6135501 , -0.86378109,  1.69613083,\n",
       "       -0.31949848,  1.43713931, -1.31328231,  0.11174239,  0.27341663,\n",
       "       -1.01181119, -1.47951067,  0.09020484, -1.09898611, -0.77732006,\n",
       "       -0.29332444, -1.20570023,  0.55705174, -0.78901161,  1.10178601,\n",
       "        1.06666762, -0.4562427 , -0.42084296,  1.42743628, -1.17155827,\n",
       "       -1.61848773,  1.36034381, -0.31589371, -0.95429153, -1.14895613])"
      ]
     },
     "execution_count": 58,
     "metadata": {},
     "output_type": "execute_result"
    }
   ],
   "source": [
    "y_pred_testing = predict(x_test,weights_test[-1])\n",
    "y_pred_testing"
   ]
  },
  {
   "cell_type": "markdown",
   "metadata": {},
   "source": [
    "Cost (test)"
   ]
  },
  {
   "cell_type": "code",
   "execution_count": 59,
   "metadata": {},
   "outputs": [
    {
     "data": {
      "text/plain": [
       "0.04557134683524103"
      ]
     },
     "execution_count": 59,
     "metadata": {},
     "output_type": "execute_result"
    }
   ],
   "source": [
    "compute_cost(y_pred_testing,y_test)"
   ]
  },
  {
   "cell_type": "markdown",
   "metadata": {},
   "source": [
    "Check MSE (test)"
   ]
  },
  {
   "cell_type": "code",
   "execution_count": 60,
   "metadata": {},
   "outputs": [
    {
     "data": {
      "text/plain": [
       "0.09114269367048206"
      ]
     },
     "execution_count": 60,
     "metadata": {},
     "output_type": "execute_result"
    }
   ],
   "source": [
    "mean_squared_error(y_test, y_pred_testing)"
   ]
  },
  {
   "cell_type": "markdown",
   "metadata": {},
   "source": [
    "## [ VIII ]De-standardize both test and training data"
   ]
  },
  {
   "cell_type": "code",
   "execution_count": 61,
   "metadata": {},
   "outputs": [],
   "source": [
    "destan_data = pd.DataFrame()"
   ]
  },
  {
   "cell_type": "code",
   "execution_count": 62,
   "metadata": {},
   "outputs": [
    {
     "data": {
      "text/html": [
       "<div>\n",
       "<style scoped>\n",
       "    .dataframe tbody tr th:only-of-type {\n",
       "        vertical-align: middle;\n",
       "    }\n",
       "\n",
       "    .dataframe tbody tr th {\n",
       "        vertical-align: top;\n",
       "    }\n",
       "\n",
       "    .dataframe thead th {\n",
       "        text-align: right;\n",
       "    }\n",
       "</style>\n",
       "<table border=\"1\" class=\"dataframe\">\n",
       "  <thead>\n",
       "    <tr style=\"text-align: right;\">\n",
       "      <th></th>\n",
       "      <th>TV</th>\n",
       "      <th>Radio</th>\n",
       "      <th>Newspaper</th>\n",
       "      <th>Sales</th>\n",
       "    </tr>\n",
       "  </thead>\n",
       "  <tbody>\n",
       "    <tr>\n",
       "      <th>1</th>\n",
       "      <td>230.1</td>\n",
       "      <td>37.8</td>\n",
       "      <td>69.2</td>\n",
       "      <td>22.1</td>\n",
       "    </tr>\n",
       "    <tr>\n",
       "      <th>2</th>\n",
       "      <td>44.5</td>\n",
       "      <td>39.3</td>\n",
       "      <td>45.1</td>\n",
       "      <td>10.4</td>\n",
       "    </tr>\n",
       "    <tr>\n",
       "      <th>3</th>\n",
       "      <td>17.2</td>\n",
       "      <td>45.9</td>\n",
       "      <td>69.3</td>\n",
       "      <td>9.3</td>\n",
       "    </tr>\n",
       "    <tr>\n",
       "      <th>4</th>\n",
       "      <td>151.5</td>\n",
       "      <td>41.3</td>\n",
       "      <td>58.5</td>\n",
       "      <td>18.5</td>\n",
       "    </tr>\n",
       "    <tr>\n",
       "      <th>5</th>\n",
       "      <td>180.8</td>\n",
       "      <td>10.8</td>\n",
       "      <td>58.4</td>\n",
       "      <td>12.9</td>\n",
       "    </tr>\n",
       "  </tbody>\n",
       "</table>\n",
       "</div>"
      ],
      "text/plain": [
       "      TV  Radio  Newspaper  Sales\n",
       "1  230.1   37.8       69.2   22.1\n",
       "2   44.5   39.3       45.1   10.4\n",
       "3   17.2   45.9       69.3    9.3\n",
       "4  151.5   41.3       58.5   18.5\n",
       "5  180.8   10.8       58.4   12.9"
      ]
     },
     "execution_count": 62,
     "metadata": {},
     "output_type": "execute_result"
    }
   ],
   "source": [
    "# Standardize each column of the data\n",
    "# Standard deviations\n",
    "std_tv = df.TV.std()\n",
    "std_radio = df.Radio.std()\n",
    "std_news = df.Newspaper.std()\n",
    "std_sales = df.Sales.std()\n",
    "# Means\n",
    "mean_tv = df.TV.mean()\n",
    "mean_radio = df.Radio.mean()\n",
    "mean_news = df.Newspaper.mean()\n",
    "mean_sales = df.Sales.mean()\n",
    "\n",
    "# One by one de-standardization to not edit bias\n",
    "destan_data['TV'] = standardized_data.TV.apply(lambda x: (x*std_tv+mean_tv))\n",
    "destan_data['Radio'] = standardized_data.Radio.apply(lambda x: (x*std_radio+mean_radio))\n",
    "destan_data['Newspaper'] = standardized_data.Newspaper.apply(lambda x: (x*std_news+mean_news))\n",
    "destan_data['Sales'] = standardized_data.Sales.apply(lambda x: (x*std_sales+mean_sales))\n",
    "\n",
    "\n",
    "\n",
    "# Check if the data is standardized\n",
    "destan_data.head()"
   ]
  },
  {
   "cell_type": "markdown",
   "metadata": {},
   "source": [
    "## [ IX ] Observe and Analyse"
   ]
  },
  {
   "cell_type": "code",
   "execution_count": 63,
   "metadata": {},
   "outputs": [],
   "source": [
    "destan_x = destan_data.drop(\"Sales\", axis=1)\n",
    "destan_y = destan_data.Sales"
   ]
  },
  {
   "cell_type": "code",
   "execution_count": 64,
   "metadata": {},
   "outputs": [],
   "source": [
    "desx_train, desx_test, desy_train, desy_test = train_test_split(x, y, train_size=0.85, test_size=0.15, random_state = 42)"
   ]
  },
  {
   "cell_type": "code",
   "execution_count": 66,
   "metadata": {},
   "outputs": [],
   "source": [
    "destantrain_cost , destantrain_weight = grad_descent(desx_train, desy_train, 5000, 0.001)"
   ]
  },
  {
   "cell_type": "code",
   "execution_count": 67,
   "metadata": {},
   "outputs": [
    {
     "data": {
      "text/plain": [
       "array([-0.28282328, -0.76503163,  1.39551965, -0.33454856,  0.8188765 ,\n",
       "        1.15359475, -0.01329177,  1.30760966, -0.57114883, -1.78726664,\n",
       "       -0.81521405, -0.25168265, -0.75504462, -1.10333965, -0.08799076,\n",
       "       -1.62715062, -0.89474096,  0.0216003 , -0.9743246 , -0.458655  ,\n",
       "        0.25479198, -0.39782656, -0.23171451, -0.61221945, -1.40335436,\n",
       "       -0.76535063, -0.85727192,  1.91143462, -1.20298511, -0.28167711,\n",
       "        0.70892823,  0.2417652 , -0.48636523, -0.59833394,  0.53515806,\n",
       "       -1.34560633,  1.38958861, -1.48869199, -0.7690581 , -0.48919145,\n",
       "       -0.89618802, -1.40363745,  0.17181025,  0.62615864,  0.34431817,\n",
       "        0.42933489,  0.17006727,  1.03609592, -0.00771508,  1.32830176,\n",
       "       -0.26984661, -0.04792313, -0.95172542,  0.56406468, -1.06410615,\n",
       "        0.25463811, -0.0588939 ,  1.73409658, -0.29914502,  1.68623822,\n",
       "       -1.38068411,  0.86806767,  1.79506435,  0.8773305 ,  0.58786547,\n",
       "        0.44576525, -0.29385851, -0.42554315,  0.56085995,  0.09420773,\n",
       "       -0.12563579, -1.18942721,  0.98924968, -0.82428517,  1.03855913,\n",
       "       -0.7204658 , -1.30691969,  0.51502053, -0.05007495,  0.21721528,\n",
       "       -0.5947556 ,  1.25825278,  1.86053293,  0.79967838,  0.71547687,\n",
       "        0.18864509,  0.55982187, -0.93745396,  0.60694292,  1.00295816,\n",
       "        0.44527208, -1.94864133, -1.64464629,  0.2843561 ,  0.28555116,\n",
       "        0.46992902,  0.84592233,  1.74672416,  0.12345679,  1.20777886,\n",
       "        0.62151718,  1.43311613, -0.67515567,  0.26026586, -0.01304728,\n",
       "       -0.79559584,  0.70374564,  0.76864247,  1.1423525 ,  0.9995164 ,\n",
       "       -0.66112619,  0.36400511,  1.26385317, -1.08153067, -0.48118834,\n",
       "       -1.22339101, -0.36738139,  0.16447335, -1.77182766,  0.09074465,\n",
       "        1.10719362, -0.01952561,  0.5727182 , -1.94605609, -0.98885521,\n",
       "        0.75249018,  0.08416452,  0.3022714 ,  1.74875352, -0.68343047,\n",
       "        2.0284916 , -0.36307858, -0.13257569,  1.93437849, -0.16525955,\n",
       "        1.17612119, -1.2951522 , -0.25467474, -1.11180459,  1.48662441,\n",
       "        0.44013456, -0.38232294,  0.12791906, -0.24124729,  0.04026037,\n",
       "       -1.77810828, -1.12822441,  0.32568515, -0.75259295,  0.81607588,\n",
       "       -0.28953237,  1.25634861, -0.78456498, -0.68067848, -0.72784757,\n",
       "        0.12969723,  0.56912232, -0.38200703,  0.33487234,  0.6051145 ,\n",
       "       -1.12712835,  0.19501628,  0.78886401,  0.83806167, -0.62784952,\n",
       "       -1.46899057,  0.84516577,  0.99246552, -0.31534838,  0.66799864])"
      ]
     },
     "execution_count": 67,
     "metadata": {},
     "output_type": "execute_result"
    }
   ],
   "source": [
    "destantrain_ypred = predict(desx_train, destantrain_weight[-1])\n",
    "destantrain_ypred"
   ]
  },
  {
   "cell_type": "markdown",
   "metadata": {},
   "source": [
    "Cost (destandardized train)"
   ]
  },
  {
   "cell_type": "code",
   "execution_count": 68,
   "metadata": {},
   "outputs": [
    {
     "data": {
      "text/plain": [
       "0.051200352365611934"
      ]
     },
     "execution_count": 68,
     "metadata": {},
     "output_type": "execute_result"
    }
   ],
   "source": [
    "compute_cost(destantrain_ypred , desy_train)"
   ]
  },
  {
   "cell_type": "markdown",
   "metadata": {},
   "source": [
    "Check MSE (destandardized train)"
   ]
  },
  {
   "cell_type": "code",
   "execution_count": 69,
   "metadata": {},
   "outputs": [
    {
     "data": {
      "text/plain": [
       "0.10240070473122387"
      ]
     },
     "execution_count": 69,
     "metadata": {},
     "output_type": "execute_result"
    }
   ],
   "source": [
    "mean_squared_error(desy_train, destantrain_ypred)"
   ]
  },
  {
   "cell_type": "markdown",
   "metadata": {},
   "source": [
    "The resulting cost and MSE of the standardized and destandardized/original dataset are similar. We can assume that even if the dataset was not normalized, it will produce the same results"
   ]
  }
 ],
 "metadata": {
  "kernelspec": {
   "display_name": "Python 3 (ipykernel)",
   "language": "python",
   "name": "python3"
  },
  "language_info": {
   "codemirror_mode": {
    "name": "ipython",
    "version": 3
   },
   "file_extension": ".py",
   "mimetype": "text/x-python",
   "name": "python",
   "nbconvert_exporter": "python",
   "pygments_lexer": "ipython3",
   "version": "3.12.4"
  }
 },
 "nbformat": 4,
 "nbformat_minor": 4
}
